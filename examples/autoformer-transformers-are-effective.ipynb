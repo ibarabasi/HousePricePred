{
  "cells": [
    {
      "cell_type": "markdown",
      "metadata": {
        "id": "view-in-github",
        "colab_type": "text"
      },
      "source": [
        "<a href=\"https://colab.research.google.com/github/ibarabasi/HousePricePred/blob/master/examples/autoformer-transformers-are-effective.ipynb\" target=\"_parent\"><img src=\"https://colab.research.google.com/assets/colab-badge.svg\" alt=\"Open In Colab\"/></a>"
      ]
    },
    {
      "cell_type": "markdown",
      "id": "73b1232b",
      "metadata": {
        "id": "73b1232b"
      },
      "source": [
        "# Yes, Transformers are Effective for Time Series Forecasting (+ Autoformer)\n",
        "\n",
        "## Introduction\n",
        "\n",
        "A few months ago, we introduced the [Informer](https://huggingface.co/blog/informer) model ([Zhou, Haoyi, et al., 2021](https://arxiv.org/abs/2012.07436)), which is a Time Series Transformer that won the AAAI 2021 best paper award. We also provided an example for multivariate probabilistic forecasting with Informer. In this post, we discuss the question: [Are Transformers Effective for Time Series Forecasting?](https://arxiv.org/abs/2205.13504) (AAAI 2023). As we will see, they are.\n",
        "\n",
        "Firstly, we will provide empirical evidence that **Transformers are indeed Effective for Time Series Forecasting**. Our comparison shows that the simple linear model, known as _DLinear_, is not better than Transformers as claimed. When compared against equivalent sized models in the same setting as the linear models, the Transformer-based models perform better on the test set metrics we consider.\n",
        "Afterwards, we will introduce the _Autoformer_ model ([Wu, Haixu, et al., 2021](https://arxiv.org/abs/2106.13008)), which was published in NeurIPS 2021 after the Informer model. The Autoformer model is [now available](https://huggingface.co/docs/transformers/main/en/model_doc/autoformer) in 🤗 Transformers. Finally, we will discuss the _DLinear_ model, which is a simple feedforward network that uses the decomposition layer from Autoformer. The DLinear model was first introduced in [Are Transformers Effective for Time Series Forecasting?](https://arxiv.org/abs/2205.13504) and claimed to outperform Transformer-based models in time-series forecasting.\n",
        "\n",
        "Let's go!"
      ]
    },
    {
      "cell_type": "markdown",
      "id": "o9KmCEu7OJmf",
      "metadata": {
        "id": "o9KmCEu7OJmf"
      },
      "source": [
        "## Benchmarking - Transformers vs. DLinear\n",
        "In the paper [Are Transformers Effective for Time Series Forecasting?](https://arxiv.org/abs/2205.13504), published recently in AAAI 2023,\n",
        "the authors claim that Transformers are not effective for time series forecasting. They compare the Transformer-based models against a simple linear model, which they call _DLinear_.\n",
        "The DLinear model uses the decomposition layer from the Autoformer model, which we will introduce later in this post. The authors claim that the DLinear model outperforms the Transformer-based models in time-series forecasting.\n",
        "Is that so? Let's find out.\n",
        "\n",
        "|      Dataset      | Autoformer (uni.) MASE | DLinear  MASE |\n",
        "|:-----------------:|:----------------------:|:-------------:|\n",
        "|    `Traffic` \t    |         0.910          |     0.965     |\n",
        "| `Exchange-Rate` \t |         1.087          |     1.690     |\n",
        "|  `Electricity` \t  |         0.751          |     0.831     |\n",
        "\n",
        "The table above shows the results of the comparison between the Autoformer and DLinear models on the three datasets used in the paper.\n",
        "The results show that the Autoformer model outperforms the DLinear model on all three datasets.\n",
        "\n",
        "Next, we will present the new Autoformer model along with the DLinear model. We will showcase how to compare them on the Traffic dataset from the table above, and provide explanations for the results we obtained.\n",
        "\n",
        "**TL;DR:** A simple linear model, while advantageous in certain cases, has no capacity to incorporate covariates compared to more complex models like transformers in the univariate setting.\n"
      ]
    },
    {
      "cell_type": "markdown",
      "id": "fke9AS-gOMUL",
      "metadata": {
        "id": "fke9AS-gOMUL"
      },
      "source": [
        "## Autoformer - Under The Hood\n",
        "\n",
        "Autoformer builds upon the traditional method of decomposing time series into seasonality and trend-cycle components. This is achieved through the incorporation of a _Decomposition Layer_, which enhances the model's ability to capture these components accurately. Moreover, Autoformer introduces an innovative auto-correlation mechanism that replaces the standard self-attention used in the vanilla transformer. This mechanism enables the model to utilize period-based dependencies in the attention, thus improving the overall performance.\n",
        "\n",
        "In the upcoming sections, we will delve into the two key contributions of Autoformer: the _Decomposition Layer_ and the _Attention (Autocorrelation) Mechanism_. We will also provide code examples to illustrate how these components function within the Autoformer architecture.\n",
        "\n",
        "### Decomposition Layer\n",
        "Decomposition has long been a popular method in time series analysis, but it had not been extensively incorporated into deep learning models until the introduction of the Autoformer paper. Following a brief explanation of the concept, we will demonstrate how the idea is applied in Autoformer using PyTorch code.\n",
        "\n",
        "####  Decomposition of Time Series\n",
        "In time series analysis, [decomposition](https://en.wikipedia.org/wiki/Decomposition_of_time_series) is a method of breaking down a time series into three systematic components: trend-cycle, seasonal variation, and random fluctuations.\n",
        "The trend component represents the long-term direction of the time series, which can be increasing, decreasing, or stable over time. The seasonal component represents the recurring patterns that occur within the time series, such as yearly or quarterly cycles. Finally, the random (sometimes called \"irregular\") component represents the random noise in the data that cannot be explained by the trend or seasonal components.\n",
        "\n",
        "Two main types of decomposition are additive and multiplicative decomposition, which are implemented in the [great statsmodels library](https://www.statsmodels.org/dev/generated/statsmodels.tsa.seasonal.seasonal_decompose.html). By decomposing a time series into these components, we can better understand and model the underlying patterns in the data.\n",
        "\n",
        "But how can we incorporate decomposition into the Transformer architecture? Let's see how Autoformer does it.\n",
        "\n",
        "#### Decomposition in Autoformer\n",
        "\n",
        "| ![autoformer_architecture](https://huggingface.co/datasets/huggingface/documentation-images/resolve/main/blog/148_autoformer/autoformer_architecture.png) |\n",
        "|:--:|\n",
        "| Autoformer architecture from [the paper](https://arxiv.org/abs/2106.13008) |\n",
        "\n",
        "Autoformer incorporates a decomposition block as an inner operation of the model, as presented in the Autoformer's architecture above. As can be seen, the encoder and decoder use a decomposition block to aggregate the trend-cyclical part and extract the seasonal part from the series progressively. The concept of inner decomposition has demonstrated its usefulness since the publication of Autoformer. Subsequently, it has been adopted in several other time series papers, such as FEDformer ([Zhou, Tian, et al., ICML 2022](https://arxiv.org/abs/2201.12740)) and DLinear [(Zeng, Ailing, et al., AAAI 2023)](https://arxiv.org/abs/2205.13504), highlighting its significance in time series modeling.\n",
        "\n",
        "Now, let's define the decomposition layer formally:\n",
        "\n",
        "For an input series \\\\(\\mathcal{X} \\in \\mathbb{R}^{L \\times d}\\\\) with length \\\\(L\\\\), the decomposition layer returns \\\\(\\mathcal{X}_\\textrm{trend}, \\mathcal{X}_\\textrm{seasonal}\\\\) defined as:\n",
        "\n",
        "$$\n",
        "\\mathcal{X}_\\textrm{trend} = \\textrm{AvgPool(Padding(} \\mathcal{X} \\textrm{))} \\\\\n",
        "\\mathcal{X}_\\textrm{seasonal} = \\mathcal{X} - \\mathcal{X}_\\textrm{trend}\n",
        "$$\n",
        "\n",
        "And the implementation in PyTorch:\n",
        "```python\n",
        "import torch\n",
        "from torch import nn\n",
        "\n",
        "class DecompositionLayer(nn.Module):\n",
        "    \"\"\"\n",
        "    Returns the trend and the seasonal parts of the time series.\n",
        "    \"\"\"\n",
        "\n",
        "    def __init__(self, kernel_size):\n",
        "        super().__init__()\n",
        "        self.kernel_size = kernel_size\n",
        "        self.avg = nn.AvgPool1d(kernel_size=kernel_size, stride=1, padding=0) # moving average\n",
        "\n",
        "    def forward(self, x):\n",
        "        \"\"\"Input shape: Batch x Time x EMBED_DIM\"\"\"\n",
        "        # padding on the both ends of time series\n",
        "        num_of_pads = (self.kernel_size - 1) // 2\n",
        "        front = x[:, 0:1, :].repeat(1, num_of_pads, 1)\n",
        "        end = x[:, -1:, :].repeat(1, num_of_pads, 1)\n",
        "        x_padded = torch.cat([front, x, end], dim=1)\n",
        "\n",
        "        # calculate the trend and seasonal part of the series\n",
        "        x_trend = self.avg(x_padded.permute(0, 2, 1)).permute(0, 2, 1)\n",
        "        x_seasonal = x - x_trend\n",
        "        return x_seasonal, x_trend\n",
        "```\n",
        "\n",
        "As you can see, the implementation is quite simple and can be used in other models, as we will see with DLinear. Now, let's explain the second contribution - _Attention (Autocorrelation) Mechanism_.\n",
        "\n",
        "### Attention (Autocorrelation) Mechanism\n",
        "\n",
        "| ![autoformer_autocorrelation_vs_full_attention](https://huggingface.co/datasets/huggingface/documentation-images/resolve/main/blog/148_autoformer/autoformer_autocorrelation_vs_full_attention.png) |\n",
        "|:--:|\n",
        "|  Vanilla self attention vs Autocorrelation mechanism, from [the paper](https://arxiv.org/abs/2106.13008) |\n",
        "\n",
        "In addition to the decomposition layer, Autoformer employs a novel auto-correlation mechanism which replaces the self-attention seamlessly. In the [vanilla Time Series Transformer](https://huggingface.co/docs/transformers/model_doc/time_series_transformer), attention weights are computed in the time domain and point-wise aggregated. On the other hand, as can be seen in the figure above, Autoformer computes them in the frequency domain (using [fast fourier transform](https://en.wikipedia.org/wiki/Fast_Fourier_transform)) and aggregates them by time delay.\n",
        "\n",
        "In the following sections, we will dive into these topics in detail and explain them with code examples.\n",
        "\n",
        "####  Frequency Domain Attention\n",
        "\n",
        "| ![autoformer_autocorrelation_only_attention](https://huggingface.co/datasets/huggingface/documentation-images/resolve/main/blog/148_autoformer/autoformer_autocorrelation_only_attention.png) |\n",
        "|:--:|\n",
        "| Attention weights computation in frequency domain using FFT, from [the paper](https://arxiv.org/abs/2106.13008) |\n",
        "\n",
        "In theory, given a time lag \\\\(\\tau\\\\), _autocorrelation_ for a single discrete variable \\\\(y\\\\) is used to measure the \"relationship\" (pearson correlation) between the variable's current value at time \\\\(t\\\\) to its past value at time \\\\(t-\\tau\\\\):\n",
        "\n",
        "$$\n",
        "\\textrm{Autocorrelation}(\\tau) = \\textrm{Corr}(y_t, y_{t-\\tau})\n",
        "$$\n",
        "\n",
        "Using autocorrelation, Autoformer extracts frequency-based dependencies from the queries and keys, instead of the standard dot-product between them. You can think about it as a replacement for the \\\\(QK^T\\\\) term in the self-attention.\n",
        "\n",
        "In practice, autocorrelation of the queries and keys for **all lags** is calculated at once by FFT. By doing so, the autocorrelation mechanism achieves \\\\(O(L \\log L)\\\\) time complexity (\\\\(L\\\\) is the input time length), similar to [Informer's ProbSparse attention](https://huggingface.co/blog/informer#probsparse-attention). Note that the theory behind computing autocorrelation using FFT is based on the [Wiener–Khinchin theorem](https://en.wikipedia.org/wiki/Wiener%E2%80%93Khinchin_theorem), which is outside the scope of this blog post.\n",
        "\n",
        "Now, we are ready to see the code in PyTorch:\n",
        "\n",
        "```python\n",
        "import torch\n",
        "\n",
        "def autocorrelation(query_states, key_states):\n",
        "    \"\"\"\n",
        "    Computes autocorrelation(Q,K) using `torch.fft`.\n",
        "    Think about it as a replacement for the QK^T in the self-attention.\n",
        "\n",
        "    Assumption: states are resized to same shape of [batch_size, time_length, embedding_dim].\n",
        "    \"\"\"\n",
        "    query_states_fft = torch.fft.rfft(query_states, dim=1)\n",
        "    key_states_fft = torch.fft.rfft(key_states, dim=1)\n",
        "    attn_weights = query_states_fft * torch.conj(key_states_fft)\n",
        "    attn_weights = torch.fft.irfft(attn_weights, dim=1)\n",
        "\n",
        "    return attn_weights\n",
        "```\n",
        "\n",
        "Quite simple! 😎 Please be aware that this is only a partial implementation of `autocorrelation(Q,K)`, and the full implementation can be found in 🤗 Transformers.\n",
        "\n",
        "Next, we will see how to aggregate our `attn_weights` with the values by time delay, process which is termed as _Time Delay Aggregation_.\n",
        "\n",
        "#### Time Delay Aggregation\n",
        "| ![autoformer_autocorrelation_only_aggregation](https://huggingface.co/datasets/huggingface/documentation-images/resolve/main/blog/148_autoformer/autoformer_autocorrelation_only_aggregation.png) |\n",
        "|:--:|\n",
        "| Aggregation by time delay, from [the Autoformer paper](https://arxiv.org/abs/2106.13008) |\n",
        "\n",
        "Let's consider the autocorrelations (referred to as `attn_weights`) as \\\\(\\mathcal{R_{Q,K}}\\\\). The question arises: how do we aggregate these \\\\(\\mathcal{R_{Q,K}}(\\tau_1), \\mathcal{R_{Q,K}}(\\tau_2), ..., \\mathcal{R_{Q,K}}(\\tau_k)\\\\) with \\\\(\\mathcal{V}\\\\)? In the standard self-attention mechanism, this aggregation is accomplished through dot-product. However, in Autoformer, we employ a different approach. Firstly, we align \\\\(\\mathcal{V}\\\\) by calculating its value for each time delay \\\\(\\tau_1, \\tau_2, ... \\tau_k\\\\), which is also known as _Rolling_. Subsequently, we conduct element-wise multiplication between the aligned \\\\(\\mathcal{V}\\\\) and the autocorrelations. In the provided figure, you can observe the left side showcasing the rolling of \\\\(\\mathcal{V}\\\\) by time delay, while the right side illustrates the element-wise multiplication with the autocorrelations.\n",
        "\n",
        "It can be summarized with the following equations:\n",
        "\n",
        "$$\n",
        "\\tau_1, \\tau_2, ... \\tau_k = \\textrm{arg Top-k}(\\mathcal{R_{Q,K}}(\\tau)) \\\\\n",
        "\\hat{\\mathcal{R}}\\mathcal{_{Q,K}}(\\tau _1), \\hat{\\mathcal{R}}\\mathcal{_{Q,K}}(\\tau _2), ..., \\hat{\\mathcal{R}}\\mathcal{_{Q,K}}(\\tau _k) = \\textrm{Softmax}(\\mathcal{R_{Q,K}}(\\tau _1), \\mathcal{R_{Q,K}}(\\tau_2), ..., \\mathcal{R_{Q,K}}(\\tau_k)) \\\\\n",
        "\\textrm{Autocorrelation-Attention} = \\sum_{i=1}^k \\textrm{Roll}(\\mathcal{V}, \\tau_i) \\cdot \\hat{\\mathcal{R}}\\mathcal{_{Q,K}}(\\tau _i)\n",
        "$$\n",
        "\n",
        "And that's it! Note that \\\\(k\\\\) is controlled by a hyperparameter called `autocorrelation_factor` (similar to `sampling_factor` in [Informer](https://huggingface.co/blog/informer)), and softmax is applied to the autocorrelations before the multiplication.\n",
        "\n",
        "Now, we are ready to see the final code:\n",
        "\n",
        "```python\n",
        "import torch\n",
        "import math\n",
        "\n",
        "def time_delay_aggregation(attn_weights, value_states, autocorrelation_factor=2):\n",
        "    \"\"\"\n",
        "    Computes aggregation as value_states.roll(delay) * top_k_autocorrelations(delay).\n",
        "    The final result is the autocorrelation-attention output.\n",
        "    Think about it as a replacement of the dot-product between attn_weights and value states.\n",
        "\n",
        "    The autocorrelation_factor is used to find top k autocorrelations delays.\n",
        "    Assumption: value_states and attn_weights shape: [batch_size, time_length, embedding_dim]\n",
        "    \"\"\"\n",
        "    bsz, num_heads, tgt_len, channel = ...\n",
        "    time_length = value_states.size(1)\n",
        "    autocorrelations = attn_weights.view(bsz, num_heads, tgt_len, channel)\n",
        "\n",
        "    # find top k autocorrelations delays\n",
        "    top_k = int(autocorrelation_factor * math.log(time_length))\n",
        "    autocorrelations_mean = torch.mean(autocorrelations, dim=(1, -1))  # bsz x tgt_len\n",
        "    top_k_autocorrelations, top_k_delays = torch.topk(autocorrelations_mean, top_k, dim=1)\n",
        "\n",
        "    # apply softmax on the channel dim\n",
        "    top_k_autocorrelations = torch.softmax(top_k_autocorrelations, dim=-1)  # bsz x top_k\n",
        "\n",
        "    # compute aggregation: value_states.roll(delay) * top_k_autocorrelations(delay)\n",
        "    delays_agg = torch.zeros_like(value_states).float()  # bsz x time_length x channel\n",
        "    for i in range(top_k):\n",
        "        value_states_roll_delay = value_states.roll(shifts=-int(top_k_delays[i]), dims=1)\n",
        "        top_k_at_delay = top_k_autocorrelations[:, i]\n",
        "        # aggregation\n",
        "        top_k_resized = top_k_at_delay.view(-1, 1, 1).repeat(num_heads, tgt_len, channel)\n",
        "        delays_agg += value_states_roll_delay * top_k_resized\n",
        "\n",
        "    attn_output = delays_agg.contiguous()\n",
        "    return attn_output\n",
        "```\n",
        "\n",
        "We did it! The Autoformer model is [now available](https://huggingface.co/docs/transformers/main/en/model_doc/autoformer) in the 🤗 Transformers library, and simply called `AutoformerModel`.\n",
        "\n",
        "Our strategy with this model is to show the performance of the univariate Transformer models in comparison to the DLinear model which is inherently univariate as will shown next. We will also present the results from _two_ multivariate Transformer models trained on the same data.\n"
      ]
    },
    {
      "cell_type": "markdown",
      "id": "a4dcdb78",
      "metadata": {
        "id": "a4dcdb78"
      },
      "source": [
        "## DLinear - Under The Hood\n",
        "\n",
        "Actually, DLinear is conceptually simple: it's just a fully connected with the Autoformer's `DecompositionLayer`.\n",
        "It uses the `DecompositionLayer` above to decompose the input time series into the residual (the seasonality) and trend part. In the forward pass each part is passed through its own linear layer, which projects the signal to an appropriate `prediction_length`-sized output. The final output is the sum of the two corresponding outputs in the point-forecasting model:\n",
        "\n",
        "```python\n",
        "def forward(self, context):\n",
        "    seasonal, trend = self.decomposition(context)\n",
        "    seasonal_output = self.linear_seasonal(seasonal)\n",
        "    trend_output = self.linear_trend(trend)\n",
        "    return seasonal_output + trend_output\n",
        "```\n",
        "\n",
        "In the probabilistic setting one can project the context length arrays to  `prediction-length * hidden` dimensions via the `linear_seasonal` and `linear_trend` layers.  The resulting outputs are added and reshaped to `(prediction_length, hidden)`. Finally, a probabilistic head maps the latent representations of size `hidden` to the parameters of some distribution.\n",
        "\n",
        "In our benchmark, we use the implementation of DLinear from [GluonTS](https://github.com/awslabs/gluonts).\n"
      ]
    },
    {
      "cell_type": "markdown",
      "id": "2204552b",
      "metadata": {
        "id": "2204552b"
      },
      "source": [
        "## Example: Traffic Dataset\n",
        "\n",
        "We want to show empirically the performance of Transformer-based models in the library, by benchmarking on the `traffic` dataset, a dataset with 862 time series. We will train a shared model on each of the individual time series (i.e. univariate setting).\n",
        "Each time series represents the occupancy value of a sensor and is in the range [0, 1]. We will keep the following hyperparameters fixed for all the models:\n"
      ]
    },
    {
      "cell_type": "code",
      "execution_count": 1,
      "id": "8xakUeWWOw9V",
      "metadata": {
        "id": "8xakUeWWOw9V"
      },
      "outputs": [],
      "source": [
        "# Traffic prediction_length is 24. Reference:\n",
        "# https://github.com/awslabs/gluonts/blob/6605ab1278b6bf92d5e47343efcf0d22bc50b2ec/src/gluonts/dataset/repository/_lstnet.py#L105\n",
        "\n",
        "prediction_length = 24\n",
        "context_length = prediction_length*2\n",
        "batch_size = 128\n",
        "num_batches_per_epoch = 100\n",
        "epochs = 50\n",
        "scaling = \"std\""
      ]
    },
    {
      "cell_type": "markdown",
      "id": "8ad6GUtSO-eS",
      "metadata": {
        "id": "8ad6GUtSO-eS"
      },
      "source": [
        "The transformers models are all relatively small with:\n"
      ]
    },
    {
      "cell_type": "code",
      "execution_count": 2,
      "id": "PFrKFGrlO_jA",
      "metadata": {
        "id": "PFrKFGrlO_jA"
      },
      "outputs": [],
      "source": [
        "encoder_layers=2\n",
        "decoder_layers=2\n",
        "d_model=16"
      ]
    },
    {
      "cell_type": "markdown",
      "id": "6AXubK6rPQPp",
      "metadata": {
        "id": "6AXubK6rPQPp"
      },
      "source": [
        "Instead of showing how to train a model using `Autoformer`, one can just replace the model in the previous two blog posts ([TimeSeriesTransformer](https://huggingface.co/blog/time-series-transformers) and [Informer](https://huggingface.co/blog/informer)) with the new `Autoformer` model and train it on the `traffic` dataset. In order to not repeat ourselves, we have already trained the models and pushed them to the HuggingFace Hub. We will use those models for evaluation."
      ]
    },
    {
      "cell_type": "markdown",
      "id": "pn1U5Pj3PRUU",
      "metadata": {
        "id": "pn1U5Pj3PRUU"
      },
      "source": [
        "## Load Dataset\n",
        "\n",
        "Let's first install the necessary libraries:"
      ]
    },
    {
      "cell_type": "code",
      "execution_count": 3,
      "id": "azOR4uCRPXOO",
      "metadata": {
        "colab": {
          "base_uri": "https://localhost:8080/"
        },
        "id": "azOR4uCRPXOO",
        "outputId": "251f8c85-7c53-4d45-ad05-4162ce9d06ce"
      },
      "outputs": [
        {
          "output_type": "stream",
          "name": "stdout",
          "text": [
            "\u001b[?25l   \u001b[90m━━━━━━━━━━━━━━━━━━━━━━━━━━━━━━━━━━━━━━━━\u001b[0m \u001b[32m0.0/84.0 kB\u001b[0m \u001b[31m?\u001b[0m eta \u001b[36m-:--:--\u001b[0m\r\u001b[2K   \u001b[90m━━━━━━━━━━━━━━━━━━━━━━━━━━━━━━━━━━━━━━━━\u001b[0m \u001b[32m84.0/84.0 kB\u001b[0m \u001b[31m4.8 MB/s\u001b[0m eta \u001b[36m0:00:00\u001b[0m\n",
            "\u001b[?25h\u001b[?25l   \u001b[90m━━━━━━━━━━━━━━━━━━━━━━━━━━━━━━━━━━━━━━━━\u001b[0m \u001b[32m0.0/53.6 kB\u001b[0m \u001b[31m?\u001b[0m eta \u001b[36m-:--:--\u001b[0m\r\u001b[2K   \u001b[90m━━━━━━━━━━━━━━━━━━━━━━━━━━━━━━━━━━━━━━━━\u001b[0m \u001b[32m53.6/53.6 kB\u001b[0m \u001b[31m2.4 MB/s\u001b[0m eta \u001b[36m0:00:00\u001b[0m\n",
            "\u001b[?25h\u001b[?25l   \u001b[90m━━━━━━━━━━━━━━━━━━━━━━━━━━━━━━━━━━━━━━━━\u001b[0m \u001b[32m0.0/811.0 kB\u001b[0m \u001b[31m?\u001b[0m eta \u001b[36m-:--:--\u001b[0m\r\u001b[2K   \u001b[91m━━━━━━━━━━━━━━━━━━━━━━━━━━━━━━━━━━━━━━━\u001b[0m\u001b[91m╸\u001b[0m \u001b[32m809.0/811.0 kB\u001b[0m \u001b[31m38.9 MB/s\u001b[0m eta \u001b[36m0:00:01\u001b[0m\r\u001b[2K   \u001b[90m━━━━━━━━━━━━━━━━━━━━━━━━━━━━━━━━━━━━━━━━\u001b[0m \u001b[32m811.0/811.0 kB\u001b[0m \u001b[31m22.3 MB/s\u001b[0m eta \u001b[36m0:00:00\u001b[0m\n",
            "\u001b[2K   \u001b[90m━━━━━━━━━━━━━━━━━━━━━━━━━━━━━━━━━━━━━━━━\u001b[0m \u001b[32m815.2/815.2 kB\u001b[0m \u001b[31m50.6 MB/s\u001b[0m eta \u001b[36m0:00:00\u001b[0m\n",
            "\u001b[2K   \u001b[90m━━━━━━━━━━━━━━━━━━━━━━━━━━━━━━━━━━━━━━━━\u001b[0m \u001b[32m363.4/363.4 MB\u001b[0m \u001b[31m4.5 MB/s\u001b[0m eta \u001b[36m0:00:00\u001b[0m\n",
            "\u001b[2K   \u001b[90m━━━━━━━━━━━━━━━━━━━━━━━━━━━━━━━━━━━━━━━━\u001b[0m \u001b[32m13.8/13.8 MB\u001b[0m \u001b[31m57.8 MB/s\u001b[0m eta \u001b[36m0:00:00\u001b[0m\n",
            "\u001b[2K   \u001b[90m━━━━━━━━━━━━━━━━━━━━━━━━━━━━━━━━━━━━━━━━\u001b[0m \u001b[32m24.6/24.6 MB\u001b[0m \u001b[31m33.3 MB/s\u001b[0m eta \u001b[36m0:00:00\u001b[0m\n",
            "\u001b[2K   \u001b[90m━━━━━━━━━━━━━━━━━━━━━━━━━━━━━━━━━━━━━━━━\u001b[0m \u001b[32m883.7/883.7 kB\u001b[0m \u001b[31m44.4 MB/s\u001b[0m eta \u001b[36m0:00:00\u001b[0m\n",
            "\u001b[2K   \u001b[90m━━━━━━━━━━━━━━━━━━━━━━━━━━━━━━━━━━━━━━━━\u001b[0m \u001b[32m664.8/664.8 MB\u001b[0m \u001b[31m1.3 MB/s\u001b[0m eta \u001b[36m0:00:00\u001b[0m\n",
            "\u001b[2K   \u001b[90m━━━━━━━━━━━━━━━━━━━━━━━━━━━━━━━━━━━━━━━━\u001b[0m \u001b[32m211.5/211.5 MB\u001b[0m \u001b[31m5.9 MB/s\u001b[0m eta \u001b[36m0:00:00\u001b[0m\n",
            "\u001b[2K   \u001b[90m━━━━━━━━━━━━━━━━━━━━━━━━━━━━━━━━━━━━━━━━\u001b[0m \u001b[32m56.3/56.3 MB\u001b[0m \u001b[31m14.1 MB/s\u001b[0m eta \u001b[36m0:00:00\u001b[0m\n",
            "\u001b[2K   \u001b[90m━━━━━━━━━━━━━━━━━━━━━━━━━━━━━━━━━━━━━━━━\u001b[0m \u001b[32m127.9/127.9 MB\u001b[0m \u001b[31m8.1 MB/s\u001b[0m eta \u001b[36m0:00:00\u001b[0m\n",
            "\u001b[2K   \u001b[90m━━━━━━━━━━━━━━━━━━━━━━━━━━━━━━━━━━━━━━━━\u001b[0m \u001b[32m207.5/207.5 MB\u001b[0m \u001b[31m7.1 MB/s\u001b[0m eta \u001b[36m0:00:00\u001b[0m\n",
            "\u001b[2K   \u001b[90m━━━━━━━━━━━━━━━━━━━━━━━━━━━━━━━━━━━━━━━━\u001b[0m \u001b[32m21.1/21.1 MB\u001b[0m \u001b[31m58.7 MB/s\u001b[0m eta \u001b[36m0:00:00\u001b[0m\n",
            "\u001b[2K   \u001b[90m━━━━━━━━━━━━━━━━━━━━━━━━━━━━━━━━━━━━━━━━\u001b[0m \u001b[32m1.5/1.5 MB\u001b[0m \u001b[31m48.4 MB/s\u001b[0m eta \u001b[36m0:00:00\u001b[0m\n",
            "\u001b[2K   \u001b[90m━━━━━━━━━━━━━━━━━━━━━━━━━━━━━━━━━━━━━━━━\u001b[0m \u001b[32m962.5/962.5 kB\u001b[0m \u001b[31m40.7 MB/s\u001b[0m eta \u001b[36m0:00:00\u001b[0m\n",
            "\u001b[2K   \u001b[90m━━━━━━━━━━━━━━━━━━━━━━━━━━━━━━━━━━━━━━━━\u001b[0m \u001b[32m321.1/321.1 kB\u001b[0m \u001b[31m8.0 MB/s\u001b[0m eta \u001b[36m0:00:00\u001b[0m\n",
            "\u001b[?25h\u001b[31mERROR: pip's dependency resolver does not currently take into account all the packages that are installed. This behaviour is the source of the following dependency conflicts.\n",
            "tensorflow 2.18.0 requires protobuf!=4.21.0,!=4.21.1,!=4.21.2,!=4.21.3,!=4.21.4,!=4.21.5,<6.0.0dev,>=3.20.3, but you have protobuf 6.31.1 which is incompatible.\n",
            "google-ai-generativelanguage 0.6.15 requires protobuf!=4.21.0,!=4.21.1,!=4.21.2,!=4.21.3,!=4.21.4,!=4.21.5,<6.0.0dev,>=3.20.2, but you have protobuf 6.31.1 which is incompatible.\n",
            "tensorflow-metadata 1.17.1 requires protobuf<6.0.0,>=4.25.2; python_version >= \"3.11\", but you have protobuf 6.31.1 which is incompatible.\n",
            "ydf 0.12.0 requires protobuf<6.0.0,>=5.29.1, but you have protobuf 6.31.1 which is incompatible.\n",
            "grpcio-status 1.71.0 requires protobuf<6.0dev,>=5.26.1, but you have protobuf 6.31.1 which is incompatible.\u001b[0m\u001b[31m\n",
            "\u001b[0m"
          ]
        }
      ],
      "source": [
        "!pip install -q transformers datasets evaluate accelerate \"gluonts[torch]\" ujson tqdm\n",
        "!pip install -q protobuf --upgrade # without it, the evaluation code fails"
      ]
    },
    {
      "cell_type": "markdown",
      "id": "GGr6NjN8Pc8g",
      "metadata": {
        "id": "GGr6NjN8Pc8g"
      },
      "source": [
        "The `traffic` dataset, used by [Lai et al. (2017)](https://arxiv.org/abs/1703.07015), contains the San Francisco Traffic. It contains 862 hourly time series showing the road occupancy rates in the range \\\\([0, 1]\\\\) on the San Francisco Bay Area freeways from 2015 to 2016."
      ]
    },
    {
      "cell_type": "code",
      "execution_count": 4,
      "id": "MKu63zXnPgMt",
      "metadata": {
        "colab": {
          "base_uri": "https://localhost:8080/"
        },
        "id": "MKu63zXnPgMt",
        "outputId": "117c256a-1a14-4e91-fe8e-420ab81cc996"
      },
      "outputs": [
        {
          "output_type": "stream",
          "name": "stdout",
          "text": [
            "traffic dataset prediction_length: 24\n"
          ]
        }
      ],
      "source": [
        "from gluonts.dataset.repository.datasets import get_dataset\n",
        "\n",
        "dataset = get_dataset(\"traffic\")\n",
        "freq = dataset.metadata.freq\n",
        "prediction_length = dataset.metadata.prediction_length\n",
        "print(f\"traffic dataset prediction_length: {prediction_length}\")"
      ]
    },
    {
      "cell_type": "markdown",
      "id": "MlBG39UEPmYY",
      "metadata": {
        "id": "MlBG39UEPmYY"
      },
      "source": [
        "Let's visualize a time series in the dataset and plot the train/test split:"
      ]
    },
    {
      "cell_type": "code",
      "execution_count": 5,
      "id": "vjHeqEjkQGOC",
      "metadata": {
        "colab": {
          "base_uri": "https://localhost:8080/",
          "height": 430
        },
        "id": "vjHeqEjkQGOC",
        "outputId": "7910c2c5-fd4f-43b5-eba2-fd01a8015296"
      },
      "outputs": [
        {
          "output_type": "display_data",
          "data": {
            "text/plain": [
              "<Figure size 640x480 with 1 Axes>"
            ],
            "image/png": "[encoded data removed]"
          },
          "metadata": {}
        }
      ],
      "source": [
        "import matplotlib.pyplot as plt\n",
        "\n",
        "train_example = next(iter(dataset.train))\n",
        "test_example = next(iter(dataset.test))\n",
        "\n",
        "num_of_samples = 4*prediction_length\n",
        "\n",
        "figure, axes = plt.subplots()\n",
        "axes.plot(train_example[\"target\"][-num_of_samples:], color=\"blue\")\n",
        "axes.plot(\n",
        "    test_example[\"target\"][-num_of_samples - prediction_length :],\n",
        "    color=\"red\",\n",
        "    alpha=0.5,\n",
        ")\n",
        "\n",
        "plt.show()"
      ]
    },
    {
      "cell_type": "markdown",
      "id": "Yxon2GHdQJis",
      "metadata": {
        "id": "Yxon2GHdQJis"
      },
      "source": [
        "Let's define the train/test splits:\n"
      ]
    },
    {
      "cell_type": "code",
      "execution_count": 6,
      "id": "pymU2p-FQK_H",
      "metadata": {
        "id": "pymU2p-FQK_H"
      },
      "outputs": [],
      "source": [
        "train_dataset = dataset.train\n",
        "test_dataset = dataset.test"
      ]
    },
    {
      "cell_type": "markdown",
      "id": "ugf1jahDQNCa",
      "metadata": {
        "id": "ugf1jahDQNCa"
      },
      "source": [
        "## Define Transformations\n",
        "\n",
        "Next, we define the transformations for the data, in particular for the creation of the time features (based on the dataset or universal ones).\n",
        "\n",
        "We define a `Chain` of transformations from GluonTS (which is a bit comparable to `torchvision.transforms.Compose` for images). It allows us to combine several transformations into a single pipeline.\n",
        "\n",
        "The transformations below are annotated with comments to explain what they do. At a high level, we will iterate over the individual time series of our dataset and add/remove fields or features:\n"
      ]
    },
    {
      "cell_type": "code",
      "execution_count": 7,
      "id": "DaRe5f3oQR9u",
      "metadata": {
        "id": "DaRe5f3oQR9u"
      },
      "outputs": [],
      "source": [
        "from transformers import PretrainedConfig\n",
        "from gluonts.time_feature import time_features_from_frequency_str\n",
        "\n",
        "from gluonts.dataset.field_names import FieldName\n",
        "from gluonts.transform import (\n",
        "    AddAgeFeature,\n",
        "    AddObservedValuesIndicator,\n",
        "    AddTimeFeatures,\n",
        "    AsNumpyArray,\n",
        "    Chain,\n",
        "    ExpectedNumInstanceSampler,\n",
        "    RemoveFields,\n",
        "    SelectFields,\n",
        "    SetField,\n",
        "    TestSplitSampler,\n",
        "    Transformation,\n",
        "    ValidationSplitSampler,\n",
        "    VstackFeatures,\n",
        "    RenameFields,\n",
        ")\n",
        "\n",
        "def create_transformation(freq: str, config: PretrainedConfig) -> Transformation:\n",
        "    # create a list of fields to remove later\n",
        "    remove_field_names = []\n",
        "    if config.num_static_real_features == 0:\n",
        "        remove_field_names.append(FieldName.FEAT_STATIC_REAL)\n",
        "    if config.num_dynamic_real_features == 0:\n",
        "        remove_field_names.append(FieldName.FEAT_DYNAMIC_REAL)\n",
        "    if config.num_static_categorical_features == 0:\n",
        "        remove_field_names.append(FieldName.FEAT_STATIC_CAT)\n",
        "\n",
        "    return Chain(\n",
        "        # step 1: remove static/dynamic fields if not specified\n",
        "        [RemoveFields(field_names=remove_field_names)]\n",
        "        # step 2: convert the data to NumPy (potentially not needed)\n",
        "        + (\n",
        "            [\n",
        "                AsNumpyArray(\n",
        "                    field=FieldName.FEAT_STATIC_CAT,\n",
        "                    expected_ndim=1,\n",
        "                    dtype=int,\n",
        "                )\n",
        "            ]\n",
        "            if config.num_static_categorical_features > 0\n",
        "            else []\n",
        "        )\n",
        "        + (\n",
        "            [\n",
        "                AsNumpyArray(\n",
        "                    field=FieldName.FEAT_STATIC_REAL,\n",
        "                    expected_ndim=1,\n",
        "                )\n",
        "            ]\n",
        "            if config.num_static_real_features > 0\n",
        "            else []\n",
        "        )\n",
        "        + [\n",
        "            AsNumpyArray(\n",
        "                field=FieldName.TARGET,\n",
        "                # we expect an extra dim for the multivariate case:\n",
        "                expected_ndim=1 if config.input_size == 1 else 2,\n",
        "            ),\n",
        "            # step 3: handle the NaN's by filling in the target with zero\n",
        "            # and return the mask (which is in the observed values)\n",
        "            # true for observed values, false for nan's\n",
        "            # the decoder uses this mask (no loss is incurred for unobserved values)\n",
        "            # see loss_weights inside the xxxForPrediction model\n",
        "            AddObservedValuesIndicator(\n",
        "                target_field=FieldName.TARGET,\n",
        "                output_field=FieldName.OBSERVED_VALUES,\n",
        "            ),\n",
        "            # step 4: add temporal features based on freq of the dataset\n",
        "            # these serve as positional encodings\n",
        "            AddTimeFeatures(\n",
        "                start_field=FieldName.START,\n",
        "                target_field=FieldName.TARGET,\n",
        "                output_field=FieldName.FEAT_TIME,\n",
        "                time_features=time_features_from_frequency_str(freq),\n",
        "                pred_length=config.prediction_length,\n",
        "            ),\n",
        "            # step 5: add another temporal feature (just a single number)\n",
        "            # tells the model where in the life the value of the time series is\n",
        "            # sort of running counter\n",
        "            AddAgeFeature(\n",
        "                target_field=FieldName.TARGET,\n",
        "                output_field=FieldName.FEAT_AGE,\n",
        "                pred_length=config.prediction_length,\n",
        "                log_scale=True,\n",
        "            ),\n",
        "            # step 6: vertically stack all the temporal features into the key FEAT_TIME\n",
        "            VstackFeatures(\n",
        "                output_field=FieldName.FEAT_TIME,\n",
        "                input_fields=[FieldName.FEAT_TIME, FieldName.FEAT_AGE]\n",
        "                + (\n",
        "                    [FieldName.FEAT_DYNAMIC_REAL]\n",
        "                    if config.num_dynamic_real_features > 0\n",
        "                    else []\n",
        "                ),\n",
        "            ),\n",
        "            # step 7: rename to match HuggingFace names\n",
        "            RenameFields(\n",
        "                mapping={\n",
        "                    FieldName.FEAT_STATIC_CAT: \"static_categorical_features\",\n",
        "                    FieldName.FEAT_STATIC_REAL: \"static_real_features\",\n",
        "                    FieldName.FEAT_TIME: \"time_features\",\n",
        "                    FieldName.TARGET: \"values\",\n",
        "                    FieldName.OBSERVED_VALUES: \"observed_mask\",\n",
        "                }\n",
        "            ),\n",
        "        ]\n",
        "    )"
      ]
    },
    {
      "cell_type": "markdown",
      "id": "nuVniPDaQS-m",
      "metadata": {
        "id": "nuVniPDaQS-m"
      },
      "source": [
        "## Define `InstanceSplitter`\n",
        "\n",
        "For training/validation/testing we next create an `InstanceSplitter` which is used to sample windows from the dataset (as, remember, we can't pass the entire history of values to the model due to time and memory constraints).\n",
        "\n",
        "The instance splitter samples random `context_length` sized and subsequent `prediction_length` sized windows from the data, and appends a `past_` or `future_` key to any temporal keys in `time_series_fields` for the respective windows. The instance splitter can be configured into three different modes:\n",
        "1. `mode=\"train\"`: Here we sample the context and prediction length windows randomly from the dataset given to it (the training dataset)\n",
        "2. `mode=\"validation\"`: Here we sample the very last context length window and prediction window from the dataset given to it (for the back-testing or validation likelihood calculations)\n",
        "3. `mode=\"test\"`: Here we sample the very last context length window only (for the prediction use case)"
      ]
    },
    {
      "cell_type": "code",
      "execution_count": 8,
      "id": "yQlvAcXbQYve",
      "metadata": {
        "id": "yQlvAcXbQYve"
      },
      "outputs": [],
      "source": [
        "from gluonts.transform import InstanceSplitter\n",
        "from gluonts.transform.sampler import InstanceSampler\n",
        "from typing import Optional\n",
        "\n",
        "\n",
        "def create_instance_splitter(\n",
        "    config: PretrainedConfig,\n",
        "    mode: str,\n",
        "    train_sampler: Optional[InstanceSampler] = None,\n",
        "    validation_sampler: Optional[InstanceSampler] = None,\n",
        ") -> Transformation:\n",
        "    assert mode in [\"train\", \"validation\", \"test\"]\n",
        "\n",
        "    instance_sampler = {\n",
        "        \"train\": train_sampler\n",
        "        or ExpectedNumInstanceSampler(\n",
        "            num_instances=1.0, min_future=config.prediction_length\n",
        "        ),\n",
        "        \"validation\": validation_sampler\n",
        "        or ValidationSplitSampler(min_future=config.prediction_length),\n",
        "        \"test\": TestSplitSampler(),\n",
        "    }[mode]\n",
        "\n",
        "    return InstanceSplitter(\n",
        "        target_field=\"values\",\n",
        "        is_pad_field=FieldName.IS_PAD,\n",
        "        start_field=FieldName.START,\n",
        "        forecast_start_field=FieldName.FORECAST_START,\n",
        "        instance_sampler=instance_sampler,\n",
        "        past_length=config.context_length + max(config.lags_sequence),\n",
        "        future_length=config.prediction_length,\n",
        "        time_series_fields=[\"time_features\", \"observed_mask\"],\n",
        "    )"
      ]
    },
    {
      "cell_type": "markdown",
      "id": "UV0rhLvWQZyu",
      "metadata": {
        "id": "UV0rhLvWQZyu"
      },
      "source": [
        "## Create PyTorch DataLoaders\n",
        "\n",
        "Next, it's time to create PyTorch DataLoaders, which allow us to have batches of (input, output) pairs - or in other words (`past_values`, `future_values`).\n"
      ]
    },
    {
      "cell_type": "code",
      "execution_count": 9,
      "id": "CT-HBLwIQf08",
      "metadata": {
        "id": "CT-HBLwIQf08"
      },
      "outputs": [],
      "source": [
        "from typing import Iterable\n",
        "\n",
        "import torch\n",
        "from gluonts.itertools import Cyclic, Cached\n",
        "from gluonts.dataset.loader import as_stacked_batches\n",
        "\n",
        "\n",
        "def create_train_dataloader(\n",
        "    config: PretrainedConfig,\n",
        "    freq,\n",
        "    data,\n",
        "    batch_size: int,\n",
        "    num_batches_per_epoch: int,\n",
        "    shuffle_buffer_length: Optional[int] = None,\n",
        "    cache_data: bool = True,\n",
        "    **kwargs,\n",
        ") -> Iterable:\n",
        "    PREDICTION_INPUT_NAMES = [\n",
        "        \"past_time_features\",\n",
        "        \"past_values\",\n",
        "        \"past_observed_mask\",\n",
        "        \"future_time_features\",\n",
        "    ]\n",
        "    if config.num_static_categorical_features > 0:\n",
        "        PREDICTION_INPUT_NAMES.append(\"static_categorical_features\")\n",
        "\n",
        "    if config.num_static_real_features > 0:\n",
        "        PREDICTION_INPUT_NAMES.append(\"static_real_features\")\n",
        "\n",
        "    TRAINING_INPUT_NAMES = PREDICTION_INPUT_NAMES + [\n",
        "        \"future_values\",\n",
        "        \"future_observed_mask\",\n",
        "    ]\n",
        "\n",
        "    transformation = create_transformation(freq, config)\n",
        "    transformed_data = transformation.apply(data, is_train=True)\n",
        "    if cache_data:\n",
        "        transformed_data = Cached(transformed_data)\n",
        "\n",
        "    # we initialize a Training instance\n",
        "    instance_splitter = create_instance_splitter(config, \"train\")\n",
        "\n",
        "    # the instance splitter will sample a window of\n",
        "    # context length + lags + prediction length (from the 366 possible transformed time series)\n",
        "    # randomly from within the target time series and return an iterator.\n",
        "    stream = Cyclic(transformed_data).stream()\n",
        "    training_instances = instance_splitter.apply(stream)\n",
        "\n",
        "    return as_stacked_batches(\n",
        "        training_instances,\n",
        "        batch_size=batch_size,\n",
        "        shuffle_buffer_length=shuffle_buffer_length,\n",
        "        field_names=TRAINING_INPUT_NAMES,\n",
        "        output_type=torch.tensor,\n",
        "        num_batches_per_epoch=num_batches_per_epoch,\n",
        "    )"
      ]
    },
    {
      "cell_type": "code",
      "execution_count": 10,
      "id": "mQKA-5YKQgeb",
      "metadata": {
        "id": "mQKA-5YKQgeb"
      },
      "outputs": [],
      "source": [
        "def create_backtest_dataloader(\n",
        "    config: PretrainedConfig,\n",
        "    freq,\n",
        "    data,\n",
        "    batch_size: int,\n",
        "    **kwargs,\n",
        "):\n",
        "    PREDICTION_INPUT_NAMES = [\n",
        "        \"past_time_features\",\n",
        "        \"past_values\",\n",
        "        \"past_observed_mask\",\n",
        "        \"future_time_features\",\n",
        "    ]\n",
        "    if config.num_static_categorical_features > 0:\n",
        "        PREDICTION_INPUT_NAMES.append(\"static_categorical_features\")\n",
        "\n",
        "    if config.num_static_real_features > 0:\n",
        "        PREDICTION_INPUT_NAMES.append(\"static_real_features\")\n",
        "\n",
        "    transformation = create_transformation(freq, config)\n",
        "    transformed_data = transformation.apply(data)\n",
        "\n",
        "    # we create a Validation Instance splitter which will sample the very last\n",
        "    # context window seen during training only for the encoder.\n",
        "    instance_sampler = create_instance_splitter(config, \"validation\")\n",
        "\n",
        "    # we apply the transformations in train mode\n",
        "    testing_instances = instance_sampler.apply(transformed_data, is_train=True)\n",
        "\n",
        "    return as_stacked_batches(\n",
        "        testing_instances,\n",
        "        batch_size=batch_size,\n",
        "        output_type=torch.tensor,\n",
        "        field_names=PREDICTION_INPUT_NAMES,\n",
        "    )"
      ]
    },
    {
      "cell_type": "code",
      "execution_count": 11,
      "id": "168394ff-1a03-40bb-924d-2edd2243ccd7",
      "metadata": {
        "id": "168394ff-1a03-40bb-924d-2edd2243ccd7"
      },
      "outputs": [],
      "source": [
        "def create_test_dataloader(\n",
        "    config: PretrainedConfig,\n",
        "    freq,\n",
        "    data,\n",
        "    batch_size: int,\n",
        "    **kwargs,\n",
        "):\n",
        "    PREDICTION_INPUT_NAMES = [\n",
        "        \"past_time_features\",\n",
        "        \"past_values\",\n",
        "        \"past_observed_mask\",\n",
        "        \"future_time_features\",\n",
        "    ]\n",
        "    if config.num_static_categorical_features > 0:\n",
        "        PREDICTION_INPUT_NAMES.append(\"static_categorical_features\")\n",
        "\n",
        "    if config.num_static_real_features > 0:\n",
        "        PREDICTION_INPUT_NAMES.append(\"static_real_features\")\n",
        "\n",
        "    transformation = create_transformation(freq, config)\n",
        "    transformed_data = transformation.apply(data, is_train=False)\n",
        "\n",
        "    # We create a test Instance splitter to sample the very last\n",
        "    # context window from the dataset provided.\n",
        "    instance_sampler = create_instance_splitter(config, \"test\")\n",
        "\n",
        "    # We apply the transformations in test mode\n",
        "    testing_instances = instance_sampler.apply(transformed_data, is_train=False)\n",
        "\n",
        "    return as_stacked_batches(\n",
        "        testing_instances,\n",
        "        batch_size=batch_size,\n",
        "        output_type=torch.tensor,\n",
        "        field_names=PREDICTION_INPUT_NAMES,\n",
        "    )"
      ]
    },
    {
      "cell_type": "markdown",
      "id": "kAcFTsVrQjK9",
      "metadata": {
        "id": "kAcFTsVrQjK9"
      },
      "source": [
        "## Evaluate on Autoformer\n",
        "\n",
        "We have already pre-trained an Autoformer model on this dataset, so we can just fetch the model and evaluate it on the test set:\n"
      ]
    },
    {
      "cell_type": "code",
      "execution_count": 12,
      "id": "d8fUtwE4Qk0s",
      "metadata": {
        "colab": {
          "base_uri": "https://localhost:8080/",
          "height": 567,
          "referenced_widgets": [
            "c2f00ed52fbe45569f8c796eb2ee1358",
            "b35ec0ce68d446b69c725b5b63d6e7a9",
            "a91f879b766a4abca9de1cb821d1cd90",
            "8548b5182d9440609a5f5c00b7bf325c",
            "2c6463c24ff842649c776689d6920e16",
            "8ad0934711204d088f6c527530e498ff",
            "23a823f7890d4f0b8c3c083b10c06d3d",
            "daeca8a6db1f4c869011bf07a0d9ea14",
            "5aac9138288947e285f06ff11801ce63",
            "95af2ab96b04483cb080afc2c591d825",
            "20d4b8e8588e4cc1b4f13476953468d7",
            "f4c657ac95db446ab4e53828b7219eb8",
            "70627b2d38cd4152be95af3bec0504c1",
            "209e7f82b7ca4ca5862eb9e4cccfc768",
            "2156a9a061174af988220c616e082980",
            "8ea5efb8b17f459ab382d9b8ab9f26a1",
            "4e02650d035f4407b17ed967ebb25cf4",
            "3bea1e2cc3eb4ce09a5b7eda60de40a6",
            "614a373545524ef3bc1456804420735b",
            "745eab7dc3b443ae8971e95dbce07115",
            "d851466d3b98461ba2b21a5db1c009d4",
            "1e60c58141774ccfb19854e7b6e0520e"
          ]
        },
        "id": "d8fUtwE4Qk0s",
        "outputId": "bd16f000-86c8-4980-bff8-149a4708a302"
      },
      "outputs": [
        {
          "output_type": "error",
          "ename": "AttributeError",
          "evalue": "'MessageFactory' object has no attribute 'GetPrototype'",
          "traceback": [
            "\u001b[0;31m---------------------------------------------------------------------------\u001b[0m",
            "\u001b[0;31mAttributeError\u001b[0m                            Traceback (most recent call last)",
            "\u001b[0;31mAttributeError\u001b[0m: 'MessageFactory' object has no attribute 'GetPrototype'"
          ]
        },
        {
          "output_type": "error",
          "ename": "AttributeError",
          "evalue": "'MessageFactory' object has no attribute 'GetPrototype'",
          "traceback": [
            "\u001b[0;31m---------------------------------------------------------------------------\u001b[0m",
            "\u001b[0;31mAttributeError\u001b[0m                            Traceback (most recent call last)",
            "\u001b[0;31mAttributeError\u001b[0m: 'MessageFactory' object has no attribute 'GetPrototype'"
          ]
        },
        {
          "output_type": "error",
          "ename": "AttributeError",
          "evalue": "'MessageFactory' object has no attribute 'GetPrototype'",
          "traceback": [
            "\u001b[0;31m---------------------------------------------------------------------------\u001b[0m",
            "\u001b[0;31mAttributeError\u001b[0m                            Traceback (most recent call last)",
            "\u001b[0;31mAttributeError\u001b[0m: 'MessageFactory' object has no attribute 'GetPrototype'"
          ]
        },
        {
          "output_type": "error",
          "ename": "AttributeError",
          "evalue": "'MessageFactory' object has no attribute 'GetPrototype'",
          "traceback": [
            "\u001b[0;31m---------------------------------------------------------------------------\u001b[0m",
            "\u001b[0;31mAttributeError\u001b[0m                            Traceback (most recent call last)",
            "\u001b[0;31mAttributeError\u001b[0m: 'MessageFactory' object has no attribute 'GetPrototype'"
          ]
        },
        {
          "output_type": "error",
          "ename": "AttributeError",
          "evalue": "'MessageFactory' object has no attribute 'GetPrototype'",
          "traceback": [
            "\u001b[0;31m---------------------------------------------------------------------------\u001b[0m",
            "\u001b[0;31mAttributeError\u001b[0m                            Traceback (most recent call last)",
            "\u001b[0;31mAttributeError\u001b[0m: 'MessageFactory' object has no attribute 'GetPrototype'"
          ]
        },
        {
          "output_type": "stream",
          "name": "stderr",
          "text": [
            "/usr/local/lib/python3.11/dist-packages/huggingface_hub/utils/_auth.py:94: UserWarning: \n",
            "The secret `HF_TOKEN` does not exist in your Colab secrets.\n",
            "To authenticate with the Hugging Face Hub, create a token in your settings tab (https://huggingface.co/settings/tokens), set it as secret in your Google Colab and restart your session.\n",
            "You will be able to reuse this secret in all of your notebooks.\n",
            "Please note that authentication is recommended but still optional to access public models or datasets.\n",
            "  warnings.warn(\n"
          ]
        },
        {
          "output_type": "display_data",
          "data": {
            "text/plain": [
              "config.json:   0%|          | 0.00/1.41k [00:00<?, ?B/s]"
            ],
            "application/vnd.jupyter.widget-view+json": {
              "version_major": 2,
              "version_minor": 0,
              "model_id": "c2f00ed52fbe45569f8c796eb2ee1358"
            }
          },
          "metadata": {}
        },
        {
          "output_type": "display_data",
          "data": {
            "text/plain": [
              "pytorch_model.bin:   0%|          | 0.00/116k [00:00<?, ?B/s]"
            ],
            "application/vnd.jupyter.widget-view+json": {
              "version_major": 2,
              "version_minor": 0,
              "model_id": "f4c657ac95db446ab4e53828b7219eb8"
            }
          },
          "metadata": {}
        }
      ],
      "source": [
        "from transformers import AutoformerConfig, AutoformerForPrediction\n",
        "\n",
        "config = AutoformerConfig.from_pretrained(\"kashif/autoformer-traffic-hourly\")\n",
        "model = AutoformerForPrediction.from_pretrained(\"kashif/autoformer-traffic-hourly\")\n",
        "\n",
        "test_dataloader = create_backtest_dataloader(\n",
        "    config=config,\n",
        "    freq=freq,\n",
        "    data=test_dataset,\n",
        "    batch_size=64,\n",
        ")"
      ]
    },
    {
      "cell_type": "markdown",
      "id": "rIj1HA1cQnAf",
      "metadata": {
        "id": "rIj1HA1cQnAf"
      },
      "source": [
        "At inference time, we will use the model's `generate()` method for predicting `prediction_length` steps into the future from the very last context window of each time series in the training set.\n"
      ]
    },
    {
      "cell_type": "code",
      "execution_count": 13,
      "id": "Mm12jH8bQpZ2",
      "metadata": {
        "id": "Mm12jH8bQpZ2"
      },
      "outputs": [],
      "source": [
        "from accelerate import Accelerator\n",
        "\n",
        "accelerator = Accelerator()\n",
        "device = accelerator.device\n",
        "model.to(device)\n",
        "model.eval()\n",
        "\n",
        "forecasts_ = []\n",
        "for batch in test_dataloader:\n",
        "    outputs = model.generate(\n",
        "        static_categorical_features=batch[\"static_categorical_features\"].to(device)\n",
        "        if config.num_static_categorical_features > 0\n",
        "        else None,\n",
        "        static_real_features=batch[\"static_real_features\"].to(device)\n",
        "        if config.num_static_real_features > 0\n",
        "        else None,\n",
        "        past_time_features=batch[\"past_time_features\"].to(device),\n",
        "        past_values=batch[\"past_values\"].to(device),\n",
        "        future_time_features=batch[\"future_time_features\"].to(device),\n",
        "        past_observed_mask=batch[\"past_observed_mask\"].to(device),\n",
        "    )\n",
        "    forecasts_.append(outputs.sequences.cpu().numpy())"
      ]
    },
    {
      "cell_type": "markdown",
      "id": "f3CfJimiQr4n",
      "metadata": {
        "id": "f3CfJimiQr4n"
      },
      "source": [
        "The model outputs a tensor of shape (`batch_size`, `number of samples`, `prediction length`, `input_size`).\n",
        "\n",
        "In this case, we get `100` possible values for the next `24` hours for each of the  time series in the test dataloader batch which if you recall from above is `64`:\n"
      ]
    },
    {
      "cell_type": "code",
      "execution_count": 14,
      "id": "EiaDRQpuQtvc",
      "metadata": {
        "colab": {
          "base_uri": "https://localhost:8080/"
        },
        "id": "EiaDRQpuQtvc",
        "outputId": "9d7574a5-be9a-401b-9344-b99983c92b82"
      },
      "outputs": [
        {
          "output_type": "execute_result",
          "data": {
            "text/plain": [
              "(64, 100, 24)"
            ]
          },
          "metadata": {},
          "execution_count": 14
        }
      ],
      "source": [
        "forecasts_[0].shape"
      ]
    },
    {
      "cell_type": "markdown",
      "id": "l8RP9wfHQvrw",
      "metadata": {
        "id": "l8RP9wfHQvrw"
      },
      "source": [
        "We'll stack them vertically, to get forecasts for all time-series in the test dataset: We have `7` rolling windows in the test set which is why we end up with a total of `7 * 862 = 6034` predictions:\n"
      ]
    },
    {
      "cell_type": "code",
      "execution_count": 15,
      "id": "X9sbEmRpQzrK",
      "metadata": {
        "colab": {
          "base_uri": "https://localhost:8080/"
        },
        "id": "X9sbEmRpQzrK",
        "outputId": "2abbce60-440e-4249-af1c-82c95ff6cf12"
      },
      "outputs": [
        {
          "output_type": "stream",
          "name": "stdout",
          "text": [
            "(6034, 100, 24)\n"
          ]
        }
      ],
      "source": [
        "import numpy as np\n",
        "\n",
        "forecasts = np.vstack(forecasts_)\n",
        "print(forecasts.shape)"
      ]
    },
    {
      "cell_type": "markdown",
      "id": "wtVOIg8aQ0Pa",
      "metadata": {
        "id": "wtVOIg8aQ0Pa"
      },
      "source": [
        "We can evaluate the resulting forecast with respect to the ground truth out of sample values present in the test set. For that, we'll use the 🤗 [Evaluate](https://huggingface.co/docs/evaluate/index) library, which includes the [MASE](https://huggingface.co/spaces/evaluate-metric/mase) metrics.\n",
        "\n",
        "We calculate the metric for each time series in the dataset and return the average:\n"
      ]
    },
    {
      "cell_type": "code",
      "execution_count": 16,
      "id": "g2DeG9EsQ2YO",
      "metadata": {
        "colab": {
          "base_uri": "https://localhost:8080/",
          "height": 81,
          "referenced_widgets": [
            "c19a15a2e78443d1a9add4e9fd56009c",
            "c516b86b63154e678ed297038d77d426",
            "9658c3d76ff14db899408c5f7d9d34c9",
            "b88bd4ef64a34e88b6b6204f1a09cb8e",
            "3676aecbc90f499eb63eb21dbd2d522d",
            "94ff2724f6be4778987431049d7509b8",
            "7b89b8c406234515b98a1a48918ef770",
            "8ecff34bd547470c8be93237e90cfc49",
            "aff1cffc2a9543e88a49f226aeb9f8d8",
            "6c3404695a6940d5a7475d43c5f5521f",
            "9af32919538e4f809c2b99a90aff9cb9",
            "de5a9087ba974e08ad3a61a245298938",
            "70f754470c2f484ca2aa8fb34548b7b5",
            "7007f5fc91e542c7a014c06203ca9fd5",
            "045e00ae61214ea988f80cbe0604d901",
            "82f1f5fc21d64af29433c45d72977a05",
            "c4db03fa08494ef783c559c0049158e7",
            "c98a0ec8cd214f419bf9bae85a34226e",
            "85a02d2e21ea410f9bab98603bc142d6",
            "450e88750d6847e98f1c42f8e7765412",
            "b027c8c9fc1647f9b732c77d86ab9c8f",
            "728f7ff1d20a4f9aac345a3f3c5b412a"
          ]
        },
        "id": "g2DeG9EsQ2YO",
        "outputId": "0de6f454-8e45-4a44-b573-6dc2a1596ce7"
      },
      "outputs": [
        {
          "output_type": "display_data",
          "data": {
            "text/plain": [
              "Downloading builder script:   0%|          | 0.00/5.50k [00:00<?, ?B/s]"
            ],
            "application/vnd.jupyter.widget-view+json": {
              "version_major": 2,
              "version_minor": 0,
              "model_id": "c19a15a2e78443d1a9add4e9fd56009c"
            }
          },
          "metadata": {}
        },
        {
          "output_type": "display_data",
          "data": {
            "text/plain": [
              "  0%|          | 0/6034 [00:00<?, ?it/s]"
            ],
            "application/vnd.jupyter.widget-view+json": {
              "version_major": 2,
              "version_minor": 0,
              "model_id": "de5a9087ba974e08ad3a61a245298938"
            }
          },
          "metadata": {}
        }
      ],
      "source": [
        "from tqdm.autonotebook import tqdm\n",
        "from evaluate import load\n",
        "from gluonts.time_feature import get_seasonality\n",
        "\n",
        "mase_metric = load(\"evaluate-metric/mase\")\n",
        "\n",
        "forecast_median = np.median(forecasts, 1)\n",
        "\n",
        "mase_metrics = []\n",
        "for item_id, ts in enumerate(tqdm(test_dataset)):\n",
        "    training_data = ts[\"target\"][:-prediction_length]\n",
        "    ground_truth = ts[\"target\"][-prediction_length:]\n",
        "    mase = mase_metric.compute(\n",
        "        predictions=forecast_median[item_id],\n",
        "        references=np.array(ground_truth),\n",
        "        training=np.array(training_data),\n",
        "        periodicity=get_seasonality(freq))\n",
        "    mase_metrics.append(mase[\"mase\"])"
      ]
    },
    {
      "cell_type": "markdown",
      "id": "3eqRbZDYQ4yQ",
      "metadata": {
        "id": "3eqRbZDYQ4yQ"
      },
      "source": [
        "So the result for the Autoformer model is:\n"
      ]
    },
    {
      "cell_type": "code",
      "execution_count": 17,
      "id": "MlnATIhGQ7VA",
      "metadata": {
        "colab": {
          "base_uri": "https://localhost:8080/"
        },
        "id": "MlnATIhGQ7VA",
        "outputId": "777da588-1f57-4d32-8187-b81b9786cd4d"
      },
      "outputs": [
        {
          "output_type": "stream",
          "name": "stdout",
          "text": [
            "Autoformer univariate MASE: 0.850\n"
          ]
        }
      ],
      "source": [
        "print(f\"Autoformer univariate MASE: {np.mean(mase_metrics):.3f}\")"
      ]
    },
    {
      "cell_type": "markdown",
      "id": "g_Y-E3ksQ76J",
      "metadata": {
        "id": "g_Y-E3ksQ76J"
      },
      "source": [
        "To plot the prediction for any time series with respect to the ground truth test data, we define the following helper:"
      ]
    },
    {
      "cell_type": "code",
      "execution_count": 18,
      "id": "jfNGe7JHQ-Hx",
      "metadata": {
        "id": "jfNGe7JHQ-Hx"
      },
      "outputs": [],
      "source": [
        "import matplotlib.dates as mdates\n",
        "import pandas as pd\n",
        "\n",
        "test_ds = list(test_dataset)\n",
        "\n",
        "def plot(ts_index):\n",
        "    fig, ax = plt.subplots()\n",
        "\n",
        "    index = pd.period_range(\n",
        "        start=test_ds[ts_index][FieldName.START],\n",
        "        periods=len(test_ds[ts_index][FieldName.TARGET]),\n",
        "        freq=test_ds[ts_index][FieldName.START].freq,\n",
        "    ).to_timestamp()\n",
        "\n",
        "    ax.plot(\n",
        "        index[-5*prediction_length:],\n",
        "        test_ds[ts_index][\"target\"][-5*prediction_length:],\n",
        "        label=\"actual\",\n",
        "    )\n",
        "\n",
        "    plt.plot(\n",
        "        index[-prediction_length:],\n",
        "        np.median(forecasts[ts_index], axis=0),\n",
        "        label=\"median\",\n",
        "    )\n",
        "\n",
        "    plt.gcf().autofmt_xdate()\n",
        "    plt.legend(loc=\"best\")\n",
        "    plt.show()"
      ]
    },
    {
      "cell_type": "markdown",
      "id": "cSbS8tmeRAue",
      "metadata": {
        "id": "cSbS8tmeRAue"
      },
      "source": [
        "For example, for time-series in the test set with index `4`:"
      ]
    },
    {
      "cell_type": "code",
      "execution_count": 19,
      "id": "3es7ZmasRCQA",
      "metadata": {
        "colab": {
          "base_uri": "https://localhost:8080/",
          "height": 426
        },
        "id": "3es7ZmasRCQA",
        "outputId": "1a4f9855-dfa3-4bc0-9581-c28e1179db4e"
      },
      "outputs": [
        {
          "output_type": "display_data",
          "data": {
            "text/plain": [
              "<Figure size 640x480 with 1 Axes>"
            ],
            "image/png": "[encoded data removed]"
          },
          "metadata": {}
        }
      ],
      "source": [
        "plot(4)"
      ]
    },
    {
      "cell_type": "markdown",
      "id": "LmHDpw_bRDbz",
      "metadata": {
        "id": "LmHDpw_bRDbz"
      },
      "source": [
        "## Evaluate on DLinear\n",
        "\n",
        "A probabilistic DLinear is implemented in `gluonts` and thus we can train and evaluate it relatively quickly here:\n"
      ]
    },
    {
      "cell_type": "code",
      "execution_count": null,
      "id": "Iknrptv1RKvF",
      "metadata": {
        "id": "Iknrptv1RKvF"
      },
      "outputs": [],
      "source": [
        "from gluonts.torch.model.d_linear.estimator import DLinearEstimator\n",
        "\n",
        "# Define the DLinear model with the same parameters as the Autoformer model\n",
        "estimator = DLinearEstimator(\n",
        "    prediction_length=dataset.metadata.prediction_length,\n",
        "    context_length=dataset.metadata.prediction_length*2,\n",
        "    scaling=scaling,\n",
        "    hidden_dimension=2,\n",
        "\n",
        "    batch_size=batch_size,\n",
        "    num_batches_per_epoch=num_batches_per_epoch,\n",
        "    trainer_kwargs=dict(max_epochs=epochs)\n",
        ")"
      ]
    },
    {
      "cell_type": "markdown",
      "id": "e6BYGFrORJa4",
      "metadata": {
        "id": "e6BYGFrORJa4"
      },
      "source": [
        "Train the model:\n"
      ]
    },
    {
      "cell_type": "code",
      "execution_count": null,
      "id": "JC4EjzRdRNqg",
      "metadata": {
        "id": "JC4EjzRdRNqg"
      },
      "outputs": [],
      "source": [
        "predictor = estimator.train(\n",
        "    training_data=train_dataset,\n",
        "    cache_data=True,\n",
        "    shuffle_buffer_length=1024\n",
        ")"
      ]
    },
    {
      "cell_type": "markdown",
      "id": "jVIo4koHRPDL",
      "metadata": {
        "id": "jVIo4koHRPDL"
      },
      "source": [
        "And evaluate it on the test set:"
      ]
    },
    {
      "cell_type": "code",
      "execution_count": null,
      "id": "HOSIs3pbRRGj",
      "metadata": {
        "id": "HOSIs3pbRRGj"
      },
      "outputs": [],
      "source": [
        "from gluonts.evaluation import make_evaluation_predictions, Evaluator\n",
        "\n",
        "forecast_it, ts_it = make_evaluation_predictions(\n",
        "    dataset=dataset.test,\n",
        "    predictor=predictor,\n",
        ")\n",
        "\n",
        "d_linear_forecasts = list(forecast_it)\n",
        "d_linear_tss = list(ts_it)\n",
        "\n",
        "evaluator = Evaluator()\n",
        "\n",
        "agg_metrics, _ = evaluator(iter(d_linear_tss), iter(d_linear_forecasts))"
      ]
    },
    {
      "cell_type": "markdown",
      "id": "HEWwzvWERRpL",
      "metadata": {
        "id": "HEWwzvWERRpL"
      },
      "source": [
        "So the result for the DLinear model is:"
      ]
    },
    {
      "cell_type": "code",
      "execution_count": null,
      "id": "LleL1nj0RVNH",
      "metadata": {
        "id": "LleL1nj0RVNH"
      },
      "outputs": [],
      "source": [
        "dlinear_mase = agg_metrics[\"MASE\"]\n",
        "print(f\"DLinear MASE: {dlinear_mase:.3f}\")"
      ]
    },
    {
      "cell_type": "markdown",
      "id": "j-f82ZJwRVmk",
      "metadata": {
        "id": "j-f82ZJwRVmk"
      },
      "source": [
        "As before, we plot the predictions from our trained DLinear model via this helper:"
      ]
    },
    {
      "cell_type": "code",
      "execution_count": null,
      "id": "JCg4Lxs5RX5S",
      "metadata": {
        "id": "JCg4Lxs5RX5S"
      },
      "outputs": [],
      "source": [
        "def plot_gluonts(index):\n",
        "    plt.plot(d_linear_tss[index][-4 * dataset.metadata.prediction_length:].to_timestamp(), label=\"target\")\n",
        "    d_linear_forecasts[index].plot(show_label=True,  color='g')\n",
        "    plt.legend()\n",
        "    plt.gcf().autofmt_xdate()\n",
        "    plt.show()"
      ]
    },
    {
      "cell_type": "code",
      "execution_count": null,
      "id": "jTcIxzldRYWC",
      "metadata": {
        "id": "jTcIxzldRYWC"
      },
      "outputs": [],
      "source": [
        "plot_gluonts(4)"
      ]
    },
    {
      "cell_type": "markdown",
      "id": "2BbAbAxiRZ4S",
      "metadata": {
        "id": "2BbAbAxiRZ4S"
      },
      "source": [
        "The `traffic` dataset has a distributional shift in the sensor patterns between weekdays and weekends. So what is going on here? Since the DLinear model has no capacity to incorporate covariates, in particular any date-time features, the context window we give it does not have enough information to figure out if the prediction is for the weekend or weekday. Thus, the model will predict the more common of the patterns, namely the weekdays leading to poorer performance on weekends. Of course, by giving it a larger context window, a linear model will figure out the weekly pattern, but perhaps there is a monthly or quarterly pattern in the data which would require bigger and bigger contexts."
      ]
    },
    {
      "cell_type": "markdown",
      "id": "WMNZspStRdh6",
      "metadata": {
        "id": "WMNZspStRdh6"
      },
      "source": [
        "## Conclusion\n",
        "\n",
        "How do Transformer-based models compare against the above linear baseline? The test set MASE metrics from the different models we have are below:\n",
        "\n",
        "|Dataset | \t Transformer (uni.) |   \t Transformer (mv.)  | Informer (uni.)| Informer (mv.) | Autoformer (uni.) | DLinear |\n",
        "|:--:|:--:| :--:| :--:| :--:|  :--:|  :--:|\n",
        "|`Traffic` \t| **0.876** | 1.046 | 0.924 | 1.131  | 0.910 | 0.965 |\n",
        "\n",
        "As one can observe, the [vanilla Transformer](https://huggingface.co/docs/transformers/model_doc/time_series_transformer) which we introduced last year gets the best results here. Secondly, multivariate models are typically _worse_ than the univariate ones, the reason being the difficulty in estimating the cross-series correlations/relationships. The additional variance added by the estimates often harms the resulting forecasts or the model learns spurious correlations. Recent papers like [CrossFormer](https://openreview.net/forum?id=vSVLM2j9eie) (ICLR 23) and [CARD](https://arxiv.org/abs/2305.12095) try to address this problem in Transformer models.\n",
        "Multivariate models usually perform well when trained on large amounts of data. However, when compared to univariate models, especially on smaller open datasets, the univariate models tend to provide better metrics. By comparing the linear model with equivalent-sized univariate transformers or in fact any other neural univariate model, one will typically get better performance.\n",
        "\n",
        "To summarize, Transformers are definitely far from being outdated when it comes to time-series forcasting!\n",
        "Yet the availability of large-scale datasets is crucial for maximizing their potential.\n",
        "Unlike in CV and NLP, the field of time series lacks publicly accessible large-scale datasets.\n",
        "Most existing pre-trained models for time series are trained on small sample sizes from archives like [UCR and UEA](https://www.timeseriesclassification.com/),\n",
        "which contain only a few thousands or even hundreds of samples.\n",
        "Although these benchmark datasets have been instrumental in the progress of the time series community,\n",
        "their limited sample sizes and lack of generality pose challenges for pre-training deep learning models.\n",
        "\n",
        "Therefore, the development of large-scale, generic time series datasets (like ImageNet in CV) is of the utmost importance.\n",
        "Creating such datasets will greatly facilitate further research on pre-trained models specifically designed for time series analysis, and it will improve the applicability of pre-trained models in time series forecasting.\n",
        "\n",
        "## Acknowledgements\n",
        "We express our appreciation to [Lysandre Debut](https://github.com/LysandreJik) and [Pedro Cuenca](https://github.com/pcuenca)\n",
        "their insightful comments and help during this project ❤️.\n",
        "\n"
      ]
    },
    {
      "cell_type": "code",
      "execution_count": null,
      "id": "zMrnXP5edKAX",
      "metadata": {
        "id": "zMrnXP5edKAX"
      },
      "outputs": [],
      "source": []
    }
  ],
  "metadata": {
    "accelerator": "GPU",
    "colab": {
      "gpuType": "T4",
      "provenance": [],
      "include_colab_link": true
    },
    "kernelspec": {
      "display_name": "Python 3 (ipykernel)",
      "language": "python",
      "name": "python3"
    },
    "language_info": {
      "codemirror_mode": {
        "name": "ipython",
        "version": 3
      },
      "file_extension": ".py",
      "mimetype": "text/x-python",
      "name": "python",
      "nbconvert_exporter": "python",
      "pygments_lexer": "ipython3",
      "version": "3.11.6"
    },
    "widgets": {
      "application/vnd.jupyter.widget-state+json": {
        "c2f00ed52fbe45569f8c796eb2ee1358": {
          "model_module": "@jupyter-widgets/controls",
          "model_name": "HBoxModel",
          "model_module_version": "1.5.0",
          "state": {
            "_dom_classes": [],
            "_model_module": "@jupyter-widgets/controls",
            "_model_module_version": "1.5.0",
            "_model_name": "HBoxModel",
            "_view_count": null,
            "_view_module": "@jupyter-widgets/controls",
            "_view_module_version": "1.5.0",
            "_view_name": "HBoxView",
            "box_style": "",
            "children": [
              "IPY_MODEL_b35ec0ce68d446b69c725b5b63d6e7a9",
              "IPY_MODEL_a91f879b766a4abca9de1cb821d1cd90",
              "IPY_MODEL_8548b5182d9440609a5f5c00b7bf325c"
            ],
            "layout": "IPY_MODEL_2c6463c24ff842649c776689d6920e16"
          }
        },
        "b35ec0ce68d446b69c725b5b63d6e7a9": {
          "model_module": "@jupyter-widgets/controls",
          "model_name": "HTMLModel",
          "model_module_version": "1.5.0",
          "state": {
            "_dom_classes": [],
            "_model_module": "@jupyter-widgets/controls",
            "_model_module_version": "1.5.0",
            "_model_name": "HTMLModel",
            "_view_count": null,
            "_view_module": "@jupyter-widgets/controls",
            "_view_module_version": "1.5.0",
            "_view_name": "HTMLView",
            "description": "",
            "description_tooltip": null,
            "layout": "IPY_MODEL_8ad0934711204d088f6c527530e498ff",
            "placeholder": "​",
            "style": "IPY_MODEL_23a823f7890d4f0b8c3c083b10c06d3d",
            "value": "config.json: 100%"
          }
        },
        "a91f879b766a4abca9de1cb821d1cd90": {
          "model_module": "@jupyter-widgets/controls",
          "model_name": "FloatProgressModel",
          "model_module_version": "1.5.0",
          "state": {
            "_dom_classes": [],
            "_model_module": "@jupyter-widgets/controls",
            "_model_module_version": "1.5.0",
            "_model_name": "FloatProgressModel",
            "_view_count": null,
            "_view_module": "@jupyter-widgets/controls",
            "_view_module_version": "1.5.0",
            "_view_name": "ProgressView",
            "bar_style": "success",
            "description": "",
            "description_tooltip": null,
            "layout": "IPY_MODEL_daeca8a6db1f4c869011bf07a0d9ea14",
            "max": 1406,
            "min": 0,
            "orientation": "horizontal",
            "style": "IPY_MODEL_5aac9138288947e285f06ff11801ce63",
            "value": 1406
          }
        },
        "8548b5182d9440609a5f5c00b7bf325c": {
          "model_module": "@jupyter-widgets/controls",
          "model_name": "HTMLModel",
          "model_module_version": "1.5.0",
          "state": {
            "_dom_classes": [],
            "_model_module": "@jupyter-widgets/controls",
            "_model_module_version": "1.5.0",
            "_model_name": "HTMLModel",
            "_view_count": null,
            "_view_module": "@jupyter-widgets/controls",
            "_view_module_version": "1.5.0",
            "_view_name": "HTMLView",
            "description": "",
            "description_tooltip": null,
            "layout": "IPY_MODEL_95af2ab96b04483cb080afc2c591d825",
            "placeholder": "​",
            "style": "IPY_MODEL_20d4b8e8588e4cc1b4f13476953468d7",
            "value": " 1.41k/1.41k [00:00&lt;00:00, 74.5kB/s]"
          }
        },
        "2c6463c24ff842649c776689d6920e16": {
          "model_module": "@jupyter-widgets/base",
          "model_name": "LayoutModel",
          "model_module_version": "1.2.0",
          "state": {
            "_model_module": "@jupyter-widgets/base",
            "_model_module_version": "1.2.0",
            "_model_name": "LayoutModel",
            "_view_count": null,
            "_view_module": "@jupyter-widgets/base",
            "_view_module_version": "1.2.0",
            "_view_name": "LayoutView",
            "align_content": null,
            "align_items": null,
            "align_self": null,
            "border": null,
            "bottom": null,
            "display": null,
            "flex": null,
            "flex_flow": null,
            "grid_area": null,
            "grid_auto_columns": null,
            "grid_auto_flow": null,
            "grid_auto_rows": null,
            "grid_column": null,
            "grid_gap": null,
            "grid_row": null,
            "grid_template_areas": null,
            "grid_template_columns": null,
            "grid_template_rows": null,
            "height": null,
            "justify_content": null,
            "justify_items": null,
            "left": null,
            "margin": null,
            "max_height": null,
            "max_width": null,
            "min_height": null,
            "min_width": null,
            "object_fit": null,
            "object_position": null,
            "order": null,
            "overflow": null,
            "overflow_x": null,
            "overflow_y": null,
            "padding": null,
            "right": null,
            "top": null,
            "visibility": null,
            "width": null
          }
        },
        "8ad0934711204d088f6c527530e498ff": {
          "model_module": "@jupyter-widgets/base",
          "model_name": "LayoutModel",
          "model_module_version": "1.2.0",
          "state": {
            "_model_module": "@jupyter-widgets/base",
            "_model_module_version": "1.2.0",
            "_model_name": "LayoutModel",
            "_view_count": null,
            "_view_module": "@jupyter-widgets/base",
            "_view_module_version": "1.2.0",
            "_view_name": "LayoutView",
            "align_content": null,
            "align_items": null,
            "align_self": null,
            "border": null,
            "bottom": null,
            "display": null,
            "flex": null,
            "flex_flow": null,
            "grid_area": null,
            "grid_auto_columns": null,
            "grid_auto_flow": null,
            "grid_auto_rows": null,
            "grid_column": null,
            "grid_gap": null,
            "grid_row": null,
            "grid_template_areas": null,
            "grid_template_columns": null,
            "grid_template_rows": null,
            "height": null,
            "justify_content": null,
            "justify_items": null,
            "left": null,
            "margin": null,
            "max_height": null,
            "max_width": null,
            "min_height": null,
            "min_width": null,
            "object_fit": null,
            "object_position": null,
            "order": null,
            "overflow": null,
            "overflow_x": null,
            "overflow_y": null,
            "padding": null,
            "right": null,
            "top": null,
            "visibility": null,
            "width": null
          }
        },
        "23a823f7890d4f0b8c3c083b10c06d3d": {
          "model_module": "@jupyter-widgets/controls",
          "model_name": "DescriptionStyleModel",
          "model_module_version": "1.5.0",
          "state": {
            "_model_module": "@jupyter-widgets/controls",
            "_model_module_version": "1.5.0",
            "_model_name": "DescriptionStyleModel",
            "_view_count": null,
            "_view_module": "@jupyter-widgets/base",
            "_view_module_version": "1.2.0",
            "_view_name": "StyleView",
            "description_width": ""
          }
        },
        "daeca8a6db1f4c869011bf07a0d9ea14": {
          "model_module": "@jupyter-widgets/base",
          "model_name": "LayoutModel",
          "model_module_version": "1.2.0",
          "state": {
            "_model_module": "@jupyter-widgets/base",
            "_model_module_version": "1.2.0",
            "_model_name": "LayoutModel",
            "_view_count": null,
            "_view_module": "@jupyter-widgets/base",
            "_view_module_version": "1.2.0",
            "_view_name": "LayoutView",
            "align_content": null,
            "align_items": null,
            "align_self": null,
            "border": null,
            "bottom": null,
            "display": null,
            "flex": null,
            "flex_flow": null,
            "grid_area": null,
            "grid_auto_columns": null,
            "grid_auto_flow": null,
            "grid_auto_rows": null,
            "grid_column": null,
            "grid_gap": null,
            "grid_row": null,
            "grid_template_areas": null,
            "grid_template_columns": null,
            "grid_template_rows": null,
            "height": null,
            "justify_content": null,
            "justify_items": null,
            "left": null,
            "margin": null,
            "max_height": null,
            "max_width": null,
            "min_height": null,
            "min_width": null,
            "object_fit": null,
            "object_position": null,
            "order": null,
            "overflow": null,
            "overflow_x": null,
            "overflow_y": null,
            "padding": null,
            "right": null,
            "top": null,
            "visibility": null,
            "width": null
          }
        },
        "5aac9138288947e285f06ff11801ce63": {
          "model_module": "@jupyter-widgets/controls",
          "model_name": "ProgressStyleModel",
          "model_module_version": "1.5.0",
          "state": {
            "_model_module": "@jupyter-widgets/controls",
            "_model_module_version": "1.5.0",
            "_model_name": "ProgressStyleModel",
            "_view_count": null,
            "_view_module": "@jupyter-widgets/base",
            "_view_module_version": "1.2.0",
            "_view_name": "StyleView",
            "bar_color": null,
            "description_width": ""
          }
        },
        "95af2ab96b04483cb080afc2c591d825": {
          "model_module": "@jupyter-widgets/base",
          "model_name": "LayoutModel",
          "model_module_version": "1.2.0",
          "state": {
            "_model_module": "@jupyter-widgets/base",
            "_model_module_version": "1.2.0",
            "_model_name": "LayoutModel",
            "_view_count": null,
            "_view_module": "@jupyter-widgets/base",
            "_view_module_version": "1.2.0",
            "_view_name": "LayoutView",
            "align_content": null,
            "align_items": null,
            "align_self": null,
            "border": null,
            "bottom": null,
            "display": null,
            "flex": null,
            "flex_flow": null,
            "grid_area": null,
            "grid_auto_columns": null,
            "grid_auto_flow": null,
            "grid_auto_rows": null,
            "grid_column": null,
            "grid_gap": null,
            "grid_row": null,
            "grid_template_areas": null,
            "grid_template_columns": null,
            "grid_template_rows": null,
            "height": null,
            "justify_content": null,
            "justify_items": null,
            "left": null,
            "margin": null,
            "max_height": null,
            "max_width": null,
            "min_height": null,
            "min_width": null,
            "object_fit": null,
            "object_position": null,
            "order": null,
            "overflow": null,
            "overflow_x": null,
            "overflow_y": null,
            "padding": null,
            "right": null,
            "top": null,
            "visibility": null,
            "width": null
          }
        },
        "20d4b8e8588e4cc1b4f13476953468d7": {
          "model_module": "@jupyter-widgets/controls",
          "model_name": "DescriptionStyleModel",
          "model_module_version": "1.5.0",
          "state": {
            "_model_module": "@jupyter-widgets/controls",
            "_model_module_version": "1.5.0",
            "_model_name": "DescriptionStyleModel",
            "_view_count": null,
            "_view_module": "@jupyter-widgets/base",
            "_view_module_version": "1.2.0",
            "_view_name": "StyleView",
            "description_width": ""
          }
        },
        "f4c657ac95db446ab4e53828b7219eb8": {
          "model_module": "@jupyter-widgets/controls",
          "model_name": "HBoxModel",
          "model_module_version": "1.5.0",
          "state": {
            "_dom_classes": [],
            "_model_module": "@jupyter-widgets/controls",
            "_model_module_version": "1.5.0",
            "_model_name": "HBoxModel",
            "_view_count": null,
            "_view_module": "@jupyter-widgets/controls",
            "_view_module_version": "1.5.0",
            "_view_name": "HBoxView",
            "box_style": "",
            "children": [
              "IPY_MODEL_70627b2d38cd4152be95af3bec0504c1",
              "IPY_MODEL_209e7f82b7ca4ca5862eb9e4cccfc768",
              "IPY_MODEL_2156a9a061174af988220c616e082980"
            ],
            "layout": "IPY_MODEL_8ea5efb8b17f459ab382d9b8ab9f26a1"
          }
        },
        "70627b2d38cd4152be95af3bec0504c1": {
          "model_module": "@jupyter-widgets/controls",
          "model_name": "HTMLModel",
          "model_module_version": "1.5.0",
          "state": {
            "_dom_classes": [],
            "_model_module": "@jupyter-widgets/controls",
            "_model_module_version": "1.5.0",
            "_model_name": "HTMLModel",
            "_view_count": null,
            "_view_module": "@jupyter-widgets/controls",
            "_view_module_version": "1.5.0",
            "_view_name": "HTMLView",
            "description": "",
            "description_tooltip": null,
            "layout": "IPY_MODEL_4e02650d035f4407b17ed967ebb25cf4",
            "placeholder": "​",
            "style": "IPY_MODEL_3bea1e2cc3eb4ce09a5b7eda60de40a6",
            "value": "pytorch_model.bin: 100%"
          }
        },
        "209e7f82b7ca4ca5862eb9e4cccfc768": {
          "model_module": "@jupyter-widgets/controls",
          "model_name": "FloatProgressModel",
          "model_module_version": "1.5.0",
          "state": {
            "_dom_classes": [],
            "_model_module": "@jupyter-widgets/controls",
            "_model_module_version": "1.5.0",
            "_model_name": "FloatProgressModel",
            "_view_count": null,
            "_view_module": "@jupyter-widgets/controls",
            "_view_module_version": "1.5.0",
            "_view_name": "ProgressView",
            "bar_style": "success",
            "description": "",
            "description_tooltip": null,
            "layout": "IPY_MODEL_614a373545524ef3bc1456804420735b",
            "max": 116322,
            "min": 0,
            "orientation": "horizontal",
            "style": "IPY_MODEL_745eab7dc3b443ae8971e95dbce07115",
            "value": 116322
          }
        },
        "2156a9a061174af988220c616e082980": {
          "model_module": "@jupyter-widgets/controls",
          "model_name": "HTMLModel",
          "model_module_version": "1.5.0",
          "state": {
            "_dom_classes": [],
            "_model_module": "@jupyter-widgets/controls",
            "_model_module_version": "1.5.0",
            "_model_name": "HTMLModel",
            "_view_count": null,
            "_view_module": "@jupyter-widgets/controls",
            "_view_module_version": "1.5.0",
            "_view_name": "HTMLView",
            "description": "",
            "description_tooltip": null,
            "layout": "IPY_MODEL_d851466d3b98461ba2b21a5db1c009d4",
            "placeholder": "​",
            "style": "IPY_MODEL_1e60c58141774ccfb19854e7b6e0520e",
            "value": " 116k/116k [00:00&lt;00:00, 5.60MB/s]"
          }
        },
        "8ea5efb8b17f459ab382d9b8ab9f26a1": {
          "model_module": "@jupyter-widgets/base",
          "model_name": "LayoutModel",
          "model_module_version": "1.2.0",
          "state": {
            "_model_module": "@jupyter-widgets/base",
            "_model_module_version": "1.2.0",
            "_model_name": "LayoutModel",
            "_view_count": null,
            "_view_module": "@jupyter-widgets/base",
            "_view_module_version": "1.2.0",
            "_view_name": "LayoutView",
            "align_content": null,
            "align_items": null,
            "align_self": null,
            "border": null,
            "bottom": null,
            "display": null,
            "flex": null,
            "flex_flow": null,
            "grid_area": null,
            "grid_auto_columns": null,
            "grid_auto_flow": null,
            "grid_auto_rows": null,
            "grid_column": null,
            "grid_gap": null,
            "grid_row": null,
            "grid_template_areas": null,
            "grid_template_columns": null,
            "grid_template_rows": null,
            "height": null,
            "justify_content": null,
            "justify_items": null,
            "left": null,
            "margin": null,
            "max_height": null,
            "max_width": null,
            "min_height": null,
            "min_width": null,
            "object_fit": null,
            "object_position": null,
            "order": null,
            "overflow": null,
            "overflow_x": null,
            "overflow_y": null,
            "padding": null,
            "right": null,
            "top": null,
            "visibility": null,
            "width": null
          }
        },
        "4e02650d035f4407b17ed967ebb25cf4": {
          "model_module": "@jupyter-widgets/base",
          "model_name": "LayoutModel",
          "model_module_version": "1.2.0",
          "state": {
            "_model_module": "@jupyter-widgets/base",
            "_model_module_version": "1.2.0",
            "_model_name": "LayoutModel",
            "_view_count": null,
            "_view_module": "@jupyter-widgets/base",
            "_view_module_version": "1.2.0",
            "_view_name": "LayoutView",
            "align_content": null,
            "align_items": null,
            "align_self": null,
            "border": null,
            "bottom": null,
            "display": null,
            "flex": null,
            "flex_flow": null,
            "grid_area": null,
            "grid_auto_columns": null,
            "grid_auto_flow": null,
            "grid_auto_rows": null,
            "grid_column": null,
            "grid_gap": null,
            "grid_row": null,
            "grid_template_areas": null,
            "grid_template_columns": null,
            "grid_template_rows": null,
            "height": null,
            "justify_content": null,
            "justify_items": null,
            "left": null,
            "margin": null,
            "max_height": null,
            "max_width": null,
            "min_height": null,
            "min_width": null,
            "object_fit": null,
            "object_position": null,
            "order": null,
            "overflow": null,
            "overflow_x": null,
            "overflow_y": null,
            "padding": null,
            "right": null,
            "top": null,
            "visibility": null,
            "width": null
          }
        },
        "3bea1e2cc3eb4ce09a5b7eda60de40a6": {
          "model_module": "@jupyter-widgets/controls",
          "model_name": "DescriptionStyleModel",
          "model_module_version": "1.5.0",
          "state": {
            "_model_module": "@jupyter-widgets/controls",
            "_model_module_version": "1.5.0",
            "_model_name": "DescriptionStyleModel",
            "_view_count": null,
            "_view_module": "@jupyter-widgets/base",
            "_view_module_version": "1.2.0",
            "_view_name": "StyleView",
            "description_width": ""
          }
        },
        "614a373545524ef3bc1456804420735b": {
          "model_module": "@jupyter-widgets/base",
          "model_name": "LayoutModel",
          "model_module_version": "1.2.0",
          "state": {
            "_model_module": "@jupyter-widgets/base",
            "_model_module_version": "1.2.0",
            "_model_name": "LayoutModel",
            "_view_count": null,
            "_view_module": "@jupyter-widgets/base",
            "_view_module_version": "1.2.0",
            "_view_name": "LayoutView",
            "align_content": null,
            "align_items": null,
            "align_self": null,
            "border": null,
            "bottom": null,
            "display": null,
            "flex": null,
            "flex_flow": null,
            "grid_area": null,
            "grid_auto_columns": null,
            "grid_auto_flow": null,
            "grid_auto_rows": null,
            "grid_column": null,
            "grid_gap": null,
            "grid_row": null,
            "grid_template_areas": null,
            "grid_template_columns": null,
            "grid_template_rows": null,
            "height": null,
            "justify_content": null,
            "justify_items": null,
            "left": null,
            "margin": null,
            "max_height": null,
            "max_width": null,
            "min_height": null,
            "min_width": null,
            "object_fit": null,
            "object_position": null,
            "order": null,
            "overflow": null,
            "overflow_x": null,
            "overflow_y": null,
            "padding": null,
            "right": null,
            "top": null,
            "visibility": null,
            "width": null
          }
        },
        "745eab7dc3b443ae8971e95dbce07115": {
          "model_module": "@jupyter-widgets/controls",
          "model_name": "ProgressStyleModel",
          "model_module_version": "1.5.0",
          "state": {
            "_model_module": "@jupyter-widgets/controls",
            "_model_module_version": "1.5.0",
            "_model_name": "ProgressStyleModel",
            "_view_count": null,
            "_view_module": "@jupyter-widgets/base",
            "_view_module_version": "1.2.0",
            "_view_name": "StyleView",
            "bar_color": null,
            "description_width": ""
          }
        },
        "d851466d3b98461ba2b21a5db1c009d4": {
          "model_module": "@jupyter-widgets/base",
          "model_name": "LayoutModel",
          "model_module_version": "1.2.0",
          "state": {
            "_model_module": "@jupyter-widgets/base",
            "_model_module_version": "1.2.0",
            "_model_name": "LayoutModel",
            "_view_count": null,
            "_view_module": "@jupyter-widgets/base",
            "_view_module_version": "1.2.0",
            "_view_name": "LayoutView",
            "align_content": null,
            "align_items": null,
            "align_self": null,
            "border": null,
            "bottom": null,
            "display": null,
            "flex": null,
            "flex_flow": null,
            "grid_area": null,
            "grid_auto_columns": null,
            "grid_auto_flow": null,
            "grid_auto_rows": null,
            "grid_column": null,
            "grid_gap": null,
            "grid_row": null,
            "grid_template_areas": null,
            "grid_template_columns": null,
            "grid_template_rows": null,
            "height": null,
            "justify_content": null,
            "justify_items": null,
            "left": null,
            "margin": null,
            "max_height": null,
            "max_width": null,
            "min_height": null,
            "min_width": null,
            "object_fit": null,
            "object_position": null,
            "order": null,
            "overflow": null,
            "overflow_x": null,
            "overflow_y": null,
            "padding": null,
            "right": null,
            "top": null,
            "visibility": null,
            "width": null
          }
        },
        "1e60c58141774ccfb19854e7b6e0520e": {
          "model_module": "@jupyter-widgets/controls",
          "model_name": "DescriptionStyleModel",
          "model_module_version": "1.5.0",
          "state": {
            "_model_module": "@jupyter-widgets/controls",
            "_model_module_version": "1.5.0",
            "_model_name": "DescriptionStyleModel",
            "_view_count": null,
            "_view_module": "@jupyter-widgets/base",
            "_view_module_version": "1.2.0",
            "_view_name": "StyleView",
            "description_width": ""
          }
        },
        "c19a15a2e78443d1a9add4e9fd56009c": {
          "model_module": "@jupyter-widgets/controls",
          "model_name": "HBoxModel",
          "model_module_version": "1.5.0",
          "state": {
            "_dom_classes": [],
            "_model_module": "@jupyter-widgets/controls",
            "_model_module_version": "1.5.0",
            "_model_name": "HBoxModel",
            "_view_count": null,
            "_view_module": "@jupyter-widgets/controls",
            "_view_module_version": "1.5.0",
            "_view_name": "HBoxView",
            "box_style": "",
            "children": [
              "IPY_MODEL_c516b86b63154e678ed297038d77d426",
              "IPY_MODEL_9658c3d76ff14db899408c5f7d9d34c9",
              "IPY_MODEL_b88bd4ef64a34e88b6b6204f1a09cb8e"
            ],
            "layout": "IPY_MODEL_3676aecbc90f499eb63eb21dbd2d522d"
          }
        },
        "c516b86b63154e678ed297038d77d426": {
          "model_module": "@jupyter-widgets/controls",
          "model_name": "HTMLModel",
          "model_module_version": "1.5.0",
          "state": {
            "_dom_classes": [],
            "_model_module": "@jupyter-widgets/controls",
            "_model_module_version": "1.5.0",
            "_model_name": "HTMLModel",
            "_view_count": null,
            "_view_module": "@jupyter-widgets/controls",
            "_view_module_version": "1.5.0",
            "_view_name": "HTMLView",
            "description": "",
            "description_tooltip": null,
            "layout": "IPY_MODEL_94ff2724f6be4778987431049d7509b8",
            "placeholder": "​",
            "style": "IPY_MODEL_7b89b8c406234515b98a1a48918ef770",
            "value": "Downloading builder script: 100%"
          }
        },
        "9658c3d76ff14db899408c5f7d9d34c9": {
          "model_module": "@jupyter-widgets/controls",
          "model_name": "FloatProgressModel",
          "model_module_version": "1.5.0",
          "state": {
            "_dom_classes": [],
            "_model_module": "@jupyter-widgets/controls",
            "_model_module_version": "1.5.0",
            "_model_name": "FloatProgressModel",
            "_view_count": null,
            "_view_module": "@jupyter-widgets/controls",
            "_view_module_version": "1.5.0",
            "_view_name": "ProgressView",
            "bar_style": "success",
            "description": "",
            "description_tooltip": null,
            "layout": "IPY_MODEL_8ecff34bd547470c8be93237e90cfc49",
            "max": 5504,
            "min": 0,
            "orientation": "horizontal",
            "style": "IPY_MODEL_aff1cffc2a9543e88a49f226aeb9f8d8",
            "value": 5504
          }
        },
        "b88bd4ef64a34e88b6b6204f1a09cb8e": {
          "model_module": "@jupyter-widgets/controls",
          "model_name": "HTMLModel",
          "model_module_version": "1.5.0",
          "state": {
            "_dom_classes": [],
            "_model_module": "@jupyter-widgets/controls",
            "_model_module_version": "1.5.0",
            "_model_name": "HTMLModel",
            "_view_count": null,
            "_view_module": "@jupyter-widgets/controls",
            "_view_module_version": "1.5.0",
            "_view_name": "HTMLView",
            "description": "",
            "description_tooltip": null,
            "layout": "IPY_MODEL_6c3404695a6940d5a7475d43c5f5521f",
            "placeholder": "​",
            "style": "IPY_MODEL_9af32919538e4f809c2b99a90aff9cb9",
            "value": " 5.50k/5.50k [00:00&lt;00:00, 146kB/s]"
          }
        },
        "3676aecbc90f499eb63eb21dbd2d522d": {
          "model_module": "@jupyter-widgets/base",
          "model_name": "LayoutModel",
          "model_module_version": "1.2.0",
          "state": {
            "_model_module": "@jupyter-widgets/base",
            "_model_module_version": "1.2.0",
            "_model_name": "LayoutModel",
            "_view_count": null,
            "_view_module": "@jupyter-widgets/base",
            "_view_module_version": "1.2.0",
            "_view_name": "LayoutView",
            "align_content": null,
            "align_items": null,
            "align_self": null,
            "border": null,
            "bottom": null,
            "display": null,
            "flex": null,
            "flex_flow": null,
            "grid_area": null,
            "grid_auto_columns": null,
            "grid_auto_flow": null,
            "grid_auto_rows": null,
            "grid_column": null,
            "grid_gap": null,
            "grid_row": null,
            "grid_template_areas": null,
            "grid_template_columns": null,
            "grid_template_rows": null,
            "height": null,
            "justify_content": null,
            "justify_items": null,
            "left": null,
            "margin": null,
            "max_height": null,
            "max_width": null,
            "min_height": null,
            "min_width": null,
            "object_fit": null,
            "object_position": null,
            "order": null,
            "overflow": null,
            "overflow_x": null,
            "overflow_y": null,
            "padding": null,
            "right": null,
            "top": null,
            "visibility": null,
            "width": null
          }
        },
        "94ff2724f6be4778987431049d7509b8": {
          "model_module": "@jupyter-widgets/base",
          "model_name": "LayoutModel",
          "model_module_version": "1.2.0",
          "state": {
            "_model_module": "@jupyter-widgets/base",
            "_model_module_version": "1.2.0",
            "_model_name": "LayoutModel",
            "_view_count": null,
            "_view_module": "@jupyter-widgets/base",
            "_view_module_version": "1.2.0",
            "_view_name": "LayoutView",
            "align_content": null,
            "align_items": null,
            "align_self": null,
            "border": null,
            "bottom": null,
            "display": null,
            "flex": null,
            "flex_flow": null,
            "grid_area": null,
            "grid_auto_columns": null,
            "grid_auto_flow": null,
            "grid_auto_rows": null,
            "grid_column": null,
            "grid_gap": null,
            "grid_row": null,
            "grid_template_areas": null,
            "grid_template_columns": null,
            "grid_template_rows": null,
            "height": null,
            "justify_content": null,
            "justify_items": null,
            "left": null,
            "margin": null,
            "max_height": null,
            "max_width": null,
            "min_height": null,
            "min_width": null,
            "object_fit": null,
            "object_position": null,
            "order": null,
            "overflow": null,
            "overflow_x": null,
            "overflow_y": null,
            "padding": null,
            "right": null,
            "top": null,
            "visibility": null,
            "width": null
          }
        },
        "7b89b8c406234515b98a1a48918ef770": {
          "model_module": "@jupyter-widgets/controls",
          "model_name": "DescriptionStyleModel",
          "model_module_version": "1.5.0",
          "state": {
            "_model_module": "@jupyter-widgets/controls",
            "_model_module_version": "1.5.0",
            "_model_name": "DescriptionStyleModel",
            "_view_count": null,
            "_view_module": "@jupyter-widgets/base",
            "_view_module_version": "1.2.0",
            "_view_name": "StyleView",
            "description_width": ""
          }
        },
        "8ecff34bd547470c8be93237e90cfc49": {
          "model_module": "@jupyter-widgets/base",
          "model_name": "LayoutModel",
          "model_module_version": "1.2.0",
          "state": {
            "_model_module": "@jupyter-widgets/base",
            "_model_module_version": "1.2.0",
            "_model_name": "LayoutModel",
            "_view_count": null,
            "_view_module": "@jupyter-widgets/base",
            "_view_module_version": "1.2.0",
            "_view_name": "LayoutView",
            "align_content": null,
            "align_items": null,
            "align_self": null,
            "border": null,
            "bottom": null,
            "display": null,
            "flex": null,
            "flex_flow": null,
            "grid_area": null,
            "grid_auto_columns": null,
            "grid_auto_flow": null,
            "grid_auto_rows": null,
            "grid_column": null,
            "grid_gap": null,
            "grid_row": null,
            "grid_template_areas": null,
            "grid_template_columns": null,
            "grid_template_rows": null,
            "height": null,
            "justify_content": null,
            "justify_items": null,
            "left": null,
            "margin": null,
            "max_height": null,
            "max_width": null,
            "min_height": null,
            "min_width": null,
            "object_fit": null,
            "object_position": null,
            "order": null,
            "overflow": null,
            "overflow_x": null,
            "overflow_y": null,
            "padding": null,
            "right": null,
            "top": null,
            "visibility": null,
            "width": null
          }
        },
        "aff1cffc2a9543e88a49f226aeb9f8d8": {
          "model_module": "@jupyter-widgets/controls",
          "model_name": "ProgressStyleModel",
          "model_module_version": "1.5.0",
          "state": {
            "_model_module": "@jupyter-widgets/controls",
            "_model_module_version": "1.5.0",
            "_model_name": "ProgressStyleModel",
            "_view_count": null,
            "_view_module": "@jupyter-widgets/base",
            "_view_module_version": "1.2.0",
            "_view_name": "StyleView",
            "bar_color": null,
            "description_width": ""
          }
        },
        "6c3404695a6940d5a7475d43c5f5521f": {
          "model_module": "@jupyter-widgets/base",
          "model_name": "LayoutModel",
          "model_module_version": "1.2.0",
          "state": {
            "_model_module": "@jupyter-widgets/base",
            "_model_module_version": "1.2.0",
            "_model_name": "LayoutModel",
            "_view_count": null,
            "_view_module": "@jupyter-widgets/base",
            "_view_module_version": "1.2.0",
            "_view_name": "LayoutView",
            "align_content": null,
            "align_items": null,
            "align_self": null,
            "border": null,
            "bottom": null,
            "display": null,
            "flex": null,
            "flex_flow": null,
            "grid_area": null,
            "grid_auto_columns": null,
            "grid_auto_flow": null,
            "grid_auto_rows": null,
            "grid_column": null,
            "grid_gap": null,
            "grid_row": null,
            "grid_template_areas": null,
            "grid_template_columns": null,
            "grid_template_rows": null,
            "height": null,
            "justify_content": null,
            "justify_items": null,
            "left": null,
            "margin": null,
            "max_height": null,
            "max_width": null,
            "min_height": null,
            "min_width": null,
            "object_fit": null,
            "object_position": null,
            "order": null,
            "overflow": null,
            "overflow_x": null,
            "overflow_y": null,
            "padding": null,
            "right": null,
            "top": null,
            "visibility": null,
            "width": null
          }
        },
        "9af32919538e4f809c2b99a90aff9cb9": {
          "model_module": "@jupyter-widgets/controls",
          "model_name": "DescriptionStyleModel",
          "model_module_version": "1.5.0",
          "state": {
            "_model_module": "@jupyter-widgets/controls",
            "_model_module_version": "1.5.0",
            "_model_name": "DescriptionStyleModel",
            "_view_count": null,
            "_view_module": "@jupyter-widgets/base",
            "_view_module_version": "1.2.0",
            "_view_name": "StyleView",
            "description_width": ""
          }
        },
        "de5a9087ba974e08ad3a61a245298938": {
          "model_module": "@jupyter-widgets/controls",
          "model_name": "HBoxModel",
          "model_module_version": "1.5.0",
          "state": {
            "_dom_classes": [],
            "_model_module": "@jupyter-widgets/controls",
            "_model_module_version": "1.5.0",
            "_model_name": "HBoxModel",
            "_view_count": null,
            "_view_module": "@jupyter-widgets/controls",
            "_view_module_version": "1.5.0",
            "_view_name": "HBoxView",
            "box_style": "",
            "children": [
              "IPY_MODEL_70f754470c2f484ca2aa8fb34548b7b5",
              "IPY_MODEL_7007f5fc91e542c7a014c06203ca9fd5",
              "IPY_MODEL_045e00ae61214ea988f80cbe0604d901"
            ],
            "layout": "IPY_MODEL_82f1f5fc21d64af29433c45d72977a05"
          }
        },
        "70f754470c2f484ca2aa8fb34548b7b5": {
          "model_module": "@jupyter-widgets/controls",
          "model_name": "HTMLModel",
          "model_module_version": "1.5.0",
          "state": {
            "_dom_classes": [],
            "_model_module": "@jupyter-widgets/controls",
            "_model_module_version": "1.5.0",
            "_model_name": "HTMLModel",
            "_view_count": null,
            "_view_module": "@jupyter-widgets/controls",
            "_view_module_version": "1.5.0",
            "_view_name": "HTMLView",
            "description": "",
            "description_tooltip": null,
            "layout": "IPY_MODEL_c4db03fa08494ef783c559c0049158e7",
            "placeholder": "​",
            "style": "IPY_MODEL_c98a0ec8cd214f419bf9bae85a34226e",
            "value": "100%"
          }
        },
        "7007f5fc91e542c7a014c06203ca9fd5": {
          "model_module": "@jupyter-widgets/controls",
          "model_name": "FloatProgressModel",
          "model_module_version": "1.5.0",
          "state": {
            "_dom_classes": [],
            "_model_module": "@jupyter-widgets/controls",
            "_model_module_version": "1.5.0",
            "_model_name": "FloatProgressModel",
            "_view_count": null,
            "_view_module": "@jupyter-widgets/controls",
            "_view_module_version": "1.5.0",
            "_view_name": "ProgressView",
            "bar_style": "success",
            "description": "",
            "description_tooltip": null,
            "layout": "IPY_MODEL_85a02d2e21ea410f9bab98603bc142d6",
            "max": 6034,
            "min": 0,
            "orientation": "horizontal",
            "style": "IPY_MODEL_450e88750d6847e98f1c42f8e7765412",
            "value": 6034
          }
        },
        "045e00ae61214ea988f80cbe0604d901": {
          "model_module": "@jupyter-widgets/controls",
          "model_name": "HTMLModel",
          "model_module_version": "1.5.0",
          "state": {
            "_dom_classes": [],
            "_model_module": "@jupyter-widgets/controls",
            "_model_module_version": "1.5.0",
            "_model_name": "HTMLModel",
            "_view_count": null,
            "_view_module": "@jupyter-widgets/controls",
            "_view_module_version": "1.5.0",
            "_view_name": "HTMLView",
            "description": "",
            "description_tooltip": null,
            "layout": "IPY_MODEL_b027c8c9fc1647f9b732c77d86ab9c8f",
            "placeholder": "​",
            "style": "IPY_MODEL_728f7ff1d20a4f9aac345a3f3c5b412a",
            "value": " 6034/6034 [00:32&lt;00:00, 205.20it/s]"
          }
        },
        "82f1f5fc21d64af29433c45d72977a05": {
          "model_module": "@jupyter-widgets/base",
          "model_name": "LayoutModel",
          "model_module_version": "1.2.0",
          "state": {
            "_model_module": "@jupyter-widgets/base",
            "_model_module_version": "1.2.0",
            "_model_name": "LayoutModel",
            "_view_count": null,
            "_view_module": "@jupyter-widgets/base",
            "_view_module_version": "1.2.0",
            "_view_name": "LayoutView",
            "align_content": null,
            "align_items": null,
            "align_self": null,
            "border": null,
            "bottom": null,
            "display": null,
            "flex": null,
            "flex_flow": null,
            "grid_area": null,
            "grid_auto_columns": null,
            "grid_auto_flow": null,
            "grid_auto_rows": null,
            "grid_column": null,
            "grid_gap": null,
            "grid_row": null,
            "grid_template_areas": null,
            "grid_template_columns": null,
            "grid_template_rows": null,
            "height": null,
            "justify_content": null,
            "justify_items": null,
            "left": null,
            "margin": null,
            "max_height": null,
            "max_width": null,
            "min_height": null,
            "min_width": null,
            "object_fit": null,
            "object_position": null,
            "order": null,
            "overflow": null,
            "overflow_x": null,
            "overflow_y": null,
            "padding": null,
            "right": null,
            "top": null,
            "visibility": null,
            "width": null
          }
        },
        "c4db03fa08494ef783c559c0049158e7": {
          "model_module": "@jupyter-widgets/base",
          "model_name": "LayoutModel",
          "model_module_version": "1.2.0",
          "state": {
            "_model_module": "@jupyter-widgets/base",
            "_model_module_version": "1.2.0",
            "_model_name": "LayoutModel",
            "_view_count": null,
            "_view_module": "@jupyter-widgets/base",
            "_view_module_version": "1.2.0",
            "_view_name": "LayoutView",
            "align_content": null,
            "align_items": null,
            "align_self": null,
            "border": null,
            "bottom": null,
            "display": null,
            "flex": null,
            "flex_flow": null,
            "grid_area": null,
            "grid_auto_columns": null,
            "grid_auto_flow": null,
            "grid_auto_rows": null,
            "grid_column": null,
            "grid_gap": null,
            "grid_row": null,
            "grid_template_areas": null,
            "grid_template_columns": null,
            "grid_template_rows": null,
            "height": null,
            "justify_content": null,
            "justify_items": null,
            "left": null,
            "margin": null,
            "max_height": null,
            "max_width": null,
            "min_height": null,
            "min_width": null,
            "object_fit": null,
            "object_position": null,
            "order": null,
            "overflow": null,
            "overflow_x": null,
            "overflow_y": null,
            "padding": null,
            "right": null,
            "top": null,
            "visibility": null,
            "width": null
          }
        },
        "c98a0ec8cd214f419bf9bae85a34226e": {
          "model_module": "@jupyter-widgets/controls",
          "model_name": "DescriptionStyleModel",
          "model_module_version": "1.5.0",
          "state": {
            "_model_module": "@jupyter-widgets/controls",
            "_model_module_version": "1.5.0",
            "_model_name": "DescriptionStyleModel",
            "_view_count": null,
            "_view_module": "@jupyter-widgets/base",
            "_view_module_version": "1.2.0",
            "_view_name": "StyleView",
            "description_width": ""
          }
        },
        "85a02d2e21ea410f9bab98603bc142d6": {
          "model_module": "@jupyter-widgets/base",
          "model_name": "LayoutModel",
          "model_module_version": "1.2.0",
          "state": {
            "_model_module": "@jupyter-widgets/base",
            "_model_module_version": "1.2.0",
            "_model_name": "LayoutModel",
            "_view_count": null,
            "_view_module": "@jupyter-widgets/base",
            "_view_module_version": "1.2.0",
            "_view_name": "LayoutView",
            "align_content": null,
            "align_items": null,
            "align_self": null,
            "border": null,
            "bottom": null,
            "display": null,
            "flex": null,
            "flex_flow": null,
            "grid_area": null,
            "grid_auto_columns": null,
            "grid_auto_flow": null,
            "grid_auto_rows": null,
            "grid_column": null,
            "grid_gap": null,
            "grid_row": null,
            "grid_template_areas": null,
            "grid_template_columns": null,
            "grid_template_rows": null,
            "height": null,
            "justify_content": null,
            "justify_items": null,
            "left": null,
            "margin": null,
            "max_height": null,
            "max_width": null,
            "min_height": null,
            "min_width": null,
            "object_fit": null,
            "object_position": null,
            "order": null,
            "overflow": null,
            "overflow_x": null,
            "overflow_y": null,
            "padding": null,
            "right": null,
            "top": null,
            "visibility": null,
            "width": null
          }
        },
        "450e88750d6847e98f1c42f8e7765412": {
          "model_module": "@jupyter-widgets/controls",
          "model_name": "ProgressStyleModel",
          "model_module_version": "1.5.0",
          "state": {
            "_model_module": "@jupyter-widgets/controls",
            "_model_module_version": "1.5.0",
            "_model_name": "ProgressStyleModel",
            "_view_count": null,
            "_view_module": "@jupyter-widgets/base",
            "_view_module_version": "1.2.0",
            "_view_name": "StyleView",
            "bar_color": null,
            "description_width": ""
          }
        },
        "b027c8c9fc1647f9b732c77d86ab9c8f": {
          "model_module": "@jupyter-widgets/base",
          "model_name": "LayoutModel",
          "model_module_version": "1.2.0",
          "state": {
            "_model_module": "@jupyter-widgets/base",
            "_model_module_version": "1.2.0",
            "_model_name": "LayoutModel",
            "_view_count": null,
            "_view_module": "@jupyter-widgets/base",
            "_view_module_version": "1.2.0",
            "_view_name": "LayoutView",
            "align_content": null,
            "align_items": null,
            "align_self": null,
            "border": null,
            "bottom": null,
            "display": null,
            "flex": null,
            "flex_flow": null,
            "grid_area": null,
            "grid_auto_columns": null,
            "grid_auto_flow": null,
            "grid_auto_rows": null,
            "grid_column": null,
            "grid_gap": null,
            "grid_row": null,
            "grid_template_areas": null,
            "grid_template_columns": null,
            "grid_template_rows": null,
            "height": null,
            "justify_content": null,
            "justify_items": null,
            "left": null,
            "margin": null,
            "max_height": null,
            "max_width": null,
            "min_height": null,
            "min_width": null,
            "object_fit": null,
            "object_position": null,
            "order": null,
            "overflow": null,
            "overflow_x": null,
            "overflow_y": null,
            "padding": null,
            "right": null,
            "top": null,
            "visibility": null,
            "width": null
          }
        },
        "728f7ff1d20a4f9aac345a3f3c5b412a": {
          "model_module": "@jupyter-widgets/controls",
          "model_name": "DescriptionStyleModel",
          "model_module_version": "1.5.0",
          "state": {
            "_model_module": "@jupyter-widgets/controls",
            "_model_module_version": "1.5.0",
            "_model_name": "DescriptionStyleModel",
            "_view_count": null,
            "_view_module": "@jupyter-widgets/base",
            "_view_module_version": "1.2.0",
            "_view_name": "StyleView",
            "description_width": ""
          }
        }
      }
    }
  },
  "nbformat": 4,
  "nbformat_minor": 5
}